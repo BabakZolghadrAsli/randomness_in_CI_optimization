{
 "cells": [
  {
   "cell_type": "markdown",
   "id": "9c03485c",
   "metadata": {},
   "source": [
    "# A critical on the role of randomness-oriented components of computational intelligance-asbed optimization [Collective intelligance]\n"
   ]
  },
  {
   "cell_type": "code",
   "execution_count": 1,
   "id": "137037bf",
   "metadata": {},
   "outputs": [],
   "source": [
    "import numpy as np\n",
    "import matplotlib.pyplot as plt\n",
    "import pandas as pd\n",
    "import time\n",
    "from pathlib import Path\n",
    "\n",
    "%matplotlib inline"
   ]
  },
  {
   "cell_type": "code",
   "execution_count": 2,
   "id": "c77e4c0f",
   "metadata": {},
   "outputs": [],
   "source": [
    "def init_genrator(min_val, max_val, num_variables, pop_size):\n",
    "    return np.random.uniform(min_val, max_val, (pop_size, num_variables))\n",
    "\n",
    "def boundery_checker(pop, min_val, max_val):\n",
    "    adj_pop = np.where(pop<min_val, min_val, pop)\n",
    "    adj_pop = np.where(adj_pop>max_val, max_val, adj_pop)\n",
    "    return adj_pop\n",
    "\n",
    "def sorting_pop(pop, obj_func):\n",
    "    results = obj_func(pop)\n",
    "    indeces = np.argsort(results)\n",
    "    return pop[indeces]\n",
    "\n",
    "def collective_intelligance(pop, vect_lenght):\n",
    "    rand = np.random.uniform(0, vect_lenght, size=(len(pop), 1))\n",
    "    elite = pop[0]\n",
    "    diff = elite - pop\n",
    "    return pop + rand*diff\n",
    "   \n",
    "def pure_random(pop_size, iteration, num_variables, obj_func, min_val, max_val):\n",
    "    NFE_value = 0\n",
    "    result = np.zeros(iteration)\n",
    "    NFE = np.zeros(iteration)\n",
    "    pop = init_genrator(min_val, max_val, num_variables, pop_size)\n",
    "    for i in range(iteration):\n",
    "        pop_new = init_genrator(min_val, max_val, num_variables, pop_size)\n",
    "        overall = np.concatenate((pop, pop_new), axis = 0)\n",
    "        overall = sorting_pop(overall, obj_func)\n",
    "        pop = overall[:pop_size]\n",
    "        NFE_value += (pop_size*2)\n",
    "        result[i] = obj_func([pop[0]])\n",
    "        NFE[i] = NFE_value\n",
    "    return pop[0], obj_func([pop[0]]), result, NFE\n",
    "    \n",
    "def random_greedy(pop_size, iteration, num_variables, obj_func, min_val, max_val):\n",
    "    NFE_value = 0\n",
    "    result = np.zeros(iteration)\n",
    "    NFE = np.zeros(iteration)\n",
    "    pop = init_genrator(min_val, max_val, num_variables, pop_size)\n",
    "    for i in range(iteration):\n",
    "        pop_new = init_genrator(min_val, max_val, num_variables, pop_size)\n",
    "        of_vals = obj_func(pop)\n",
    "        of_vals_new = obj_func(pop_new)\n",
    "        pop = np.where((of_vals_new<of_vals).reshape(-1,1), pop_new, pop)\n",
    "        NFE_value += (pop_size*2)\n",
    "        pop = sorting_pop(pop, obj_func)\n",
    "        result[i] = obj_func([pop[0]])\n",
    "        NFE[i] = NFE_value\n",
    "    return pop[0], obj_func([pop[0]]), result, NFE\n",
    "\n",
    "def elite_guided_collective_intelligance(pop_size, iteration, num_variables, obj_func, min_val, max_val, vect_lenght):\n",
    "    NFE_value = 0\n",
    "    result = np.zeros(iteration)\n",
    "    NFE = np.zeros(iteration)\n",
    "    pop = init_genrator(min_val, max_val, num_variables, pop_size)\n",
    "    pop = sorting_pop(pop, obj_func)\n",
    "    NFE_value += pop_size\n",
    "    for i in range(iteration):\n",
    "        pop_new = collective_intelligance(pop, vect_lenght)\n",
    "        overall = np.concatenate((pop, pop_new), axis = 0)\n",
    "        overall = sorting_pop(overall, obj_func)\n",
    "        pop = overall[:pop_size]\n",
    "        NFE_value += (pop_size*2)\n",
    "        result[i] = obj_func([pop[0]])\n",
    "        NFE[i] = NFE_value\n",
    "    return pop[0], obj_func([pop[0]]), result, NFE\n",
    "               \n",
    "def elite_guided_collective_intelligance_greedy(pop_size, iteration, num_variables, obj_func,\n",
    "                                                min_val, max_val, vect_lenght):\n",
    "    NFE_value = 0\n",
    "    result = np.zeros(iteration)\n",
    "    NFE = np.zeros(iteration)\n",
    "    pop = init_genrator(min_val, max_val, num_variables, pop_size)\n",
    "    pop = sorting_pop(pop, obj_func)\n",
    "    NFE_value += pop_size\n",
    "    for i in range(iteration):\n",
    "        pop_new = collective_intelligance(pop, vect_lenght)\n",
    "        of_vals = obj_func(pop)\n",
    "        of_vals_new = obj_func(pop_new)\n",
    "        pop = np.where((of_vals_new<of_vals).reshape(-1,1), pop_new, pop)\n",
    "        pop = sorting_pop(pop, obj_func)\n",
    "        NFE_value += (pop_size*3)\n",
    "        result[i] = obj_func([pop[0]])\n",
    "        NFE[i] = NFE_value\n",
    "    return pop[0], obj_func([pop[0]]), result, NFE"
   ]
  },
  {
   "cell_type": "markdown",
   "id": "7ba6e6db",
   "metadata": {},
   "source": [
    "<div class='alert alert-danger'>\n",
    "    For Non-Centered Tests\n",
    "</div>"
   ]
  },
  {
   "cell_type": "code",
   "execution_count": null,
   "id": "6e7ac473",
   "metadata": {},
   "outputs": [],
   "source": [
    "from cec2017.functions import *"
   ]
  },
  {
   "cell_type": "markdown",
   "id": "ee920ea1",
   "metadata": {},
   "source": [
    "<div class='alert alert-danger'>\n",
    "    For Centered Tests\n",
    "</div>"
   ]
  },
  {
   "cell_type": "code",
   "execution_count": null,
   "id": "420726d5",
   "metadata": {},
   "outputs": [],
   "source": [
    "def f1(x):\n",
    "    x = np.array(x)\n",
    "    x2 = x * x\n",
    "    return np.sum(x2, axis=1)\n",
    "\n",
    "def f2(x):\n",
    "    x = np.array(x)\n",
    "    ab = np.abs(x)\n",
    "    a = np.sum(ab, axis=1)\n",
    "    b = np.prod(ab, axis=1)\n",
    "    return a + b\n",
    "\n",
    "def f4(x):\n",
    "    x = np.array(x)\n",
    "    ab = np.abs(x)\n",
    "    return np.max(ab, axis=1)\n",
    "\n",
    "def f6(x):\n",
    "    x = np.array(x)\n",
    "    xnew = x + .5\n",
    "    floor = np.floor(xnew)\n",
    "    x2 = floor * floor\n",
    "    return np.sum(x2, axis=1)\n",
    "\n",
    "def f7(x):\n",
    "    x = np.array(x)\n",
    "    index = np.arange(1,len(x[0])+1)\n",
    "    ones = np.ones_like(x)\n",
    "    aa = ones * index\n",
    "    x2 = x * x\n",
    "    x4 = x2 * x2\n",
    "    b = x4 * aa\n",
    "    return np.sum(b, axis=1)"
   ]
  },
  {
   "cell_type": "markdown",
   "id": "ec8728ab",
   "metadata": {},
   "source": [
    "### I. Pure Random Optimization Algorithm"
   ]
  },
  {
   "cell_type": "markdown",
   "id": "db77d925",
   "metadata": {},
   "source": [
    "<div class='alert alert-info'>\n",
    "    Non-Centered tests\n",
    "</div>"
   ]
  },
  {
   "cell_type": "code",
   "execution_count": null,
   "id": "69bdd72f",
   "metadata": {},
   "outputs": [],
   "source": [
    "alg_name = 'Pure Random'\n",
    "num_runs = 100\n",
    "\n",
    "min_val, max_val = -100, 100\n",
    "pop_values = np.array([50, 100, 200, 500, 750, 1000])\n",
    "iteration_values = np.array([500, 750, 1000, 2000, 2500])\n",
    "num_variables_values = np.array([2, 10])\n",
    "pop_values_mesh, iteration_values_mesh, num_variables_values_mesh = np.meshgrid(pop_values,\n",
    "                                                                                iteration_values,\n",
    "                                                                                num_variables_values)\n",
    "funcs_index = [1,2,3,4,5,6,7,8,9,10,21,23,24,25,26,27,28]"
   ]
  },
  {
   "cell_type": "code",
   "execution_count": null,
   "id": "60ee0602",
   "metadata": {},
   "outputs": [],
   "source": [
    "for j in funcs_index:\n",
    "    func_name = 'f%s'%j\n",
    "    obj_func = eval(func_name)\n",
    "    print(func_name)\n",
    "    for i in range(len(pop_values_mesh.flat)):\n",
    "        pop_size = pop_values_mesh.flat[i]\n",
    "        iteration = iteration_values_mesh.flat[i]\n",
    "        num_variables = num_variables_values_mesh.flat[i]\n",
    "        overall_result = pd.DataFrame(columns=['Function', 'Num Variables', 'best_OF', 'Pop Size',\n",
    "                                               'Iteration', 'NFE', 'time (s)', 'Best DVs'])\n",
    "        for m in range(num_runs):\n",
    "            start_time = time.time()\n",
    "            X_best, OF_best, result, NFE = pure_random(pop_size, iteration, num_variables, obj_func, min_val, max_val)\n",
    "            end_time = time.time()\n",
    "            overall_result = overall_result.append({'Function':func_name, 'Num Variables': num_variables,\n",
    "                                                    'best_OF':OF_best[0], 'Pop Size': pop_size, \n",
    "                                                    'Iteration': iteration, 'NFE':NFE[-1].astype(int),\n",
    "                                                    'time (s)':end_time-start_time, 'Best DVs': X_best},\n",
    "                                                   ignore_index=True)\n",
    "\n",
    "        output_file = '%dvar_%dpop_%dit.csv'%(num_variables, pop_size, iteration)\n",
    "        output_dir = Path('%s/Result/%s'%(alg_name, func_name))\n",
    "        output_dir.mkdir(parents=True, exist_ok=True)\n",
    "        overall_result.to_csv(output_dir / output_file)    "
   ]
  },
  {
   "cell_type": "code",
   "execution_count": null,
   "id": "405b4fd9",
   "metadata": {},
   "outputs": [],
   "source": [
    "for f in funcs_index:\n",
    "    for n in num_variables_values:   \n",
    "        summary_report = pd.DataFrame(columns=['Setting', 'NFE', 'Best outcome', 'Worst outcome', 'Avr. of outcomes',\n",
    "                                               'Median of outcomes', 'Std of outcome', 'Avr. runtime (s)',\n",
    "                                               'Fastest runtime (s)', 'Slowest runtime (s)'])\n",
    "        for p in pop_values:\n",
    "            for i in iteration_values:\n",
    "                file_name = '%s/Result/f%d/%dvar_%dpop_%dit.csv'%(alg_name, f, n, p, i)\n",
    "                test_report = pd.read_csv(file_name, index_col=[0])\n",
    "                \n",
    "                bst_out = test_report['best_OF'].min()\n",
    "                wrst_out = test_report['best_OF'].max()\n",
    "                avr_out = test_report['best_OF'].mean()\n",
    "                median_out = test_report['best_OF'].median()\n",
    "                std_out = test_report['best_OF'].std()\n",
    "                avr_time = test_report['time (s)'].mean()\n",
    "                fst_time = test_report['time (s)'].min()\n",
    "                slwst_time = test_report['time (s)'].max()\n",
    "                avr_NFE = test_report['NFE'].mean()\n",
    "                \n",
    "                summary_report = summary_report.append({'Setting': {'Pop': p, 'It.': i}, 'NFE': avr_NFE,\n",
    "                                                        'Best outcome':bst_out, 'Worst outcome':wrst_out,\n",
    "                                                        'Avr. of outcomes':avr_out, 'Median of outcomes':median_out,\n",
    "                                                        'Std of outcome':std_out, 'Avr. runtime (s)':avr_time,\n",
    "                                                        'Fastest runtime (s)':fst_time, 'Slowest runtime (s)':slwst_time},\n",
    "                                                       ignore_index=True)\n",
    "        output_file = '%dvar__summary.csv'%(n)\n",
    "        output_dir = Path('%s/Summary Report/f%d'%(alg_name, f))\n",
    "        output_dir.mkdir(parents=True, exist_ok=True)\n",
    "        summary_report.to_csv(output_dir / output_file)"
   ]
  },
  {
   "cell_type": "markdown",
   "id": "5c9ca47b",
   "metadata": {},
   "source": [
    "<div class='alert alert-info'>\n",
    "    Centered test\n",
    "</div>"
   ]
  },
  {
   "cell_type": "code",
   "execution_count": null,
   "id": "d3d47c41",
   "metadata": {},
   "outputs": [],
   "source": [
    "alg_name = 'Pure Random'\n",
    "num_runs = 100\n",
    "\n",
    "pop_values = np.array([50, 100, 200, 500, 750, 1000])\n",
    "iteration_values = np.array([500, 750, 1000, 2000, 2500])\n",
    "num_variables_values = np.array([2, 10])\n",
    "range_dic = {1:(-100, 100), 2:(-10, 10), 4:(-100, 100), 6:(-100, 100), 7:(-1.28, 1.28)}\n",
    "pop_values_mesh, iteration_values_mesh, num_variables_values_mesh = np.meshgrid(pop_values,\n",
    "                                                                                iteration_values,\n",
    "                                                                                num_variables_values)\n",
    "funcs_index = [1,2,4,6,7]"
   ]
  },
  {
   "cell_type": "code",
   "execution_count": null,
   "id": "dec012b9",
   "metadata": {},
   "outputs": [],
   "source": [
    "for j in funcs_index:\n",
    "    func_name = 'f%s'%j\n",
    "    obj_func = eval(func_name)\n",
    "    min_val, max_val = range_dic[j]\n",
    "    print(func_name)\n",
    "    for i in range(len(pop_values_mesh.flat)):\n",
    "        pop_size = pop_values_mesh.flat[i]\n",
    "        iteration = iteration_values_mesh.flat[i]\n",
    "        num_variables = num_variables_values_mesh.flat[i]\n",
    "        overall_result = pd.DataFrame(columns=['Function', 'Num Variables', 'best_OF', 'Pop Size',\n",
    "                                               'Iteration', 'NFE', 'time (s)', 'Best DVs'])\n",
    "        for m in range(num_runs):\n",
    "            start_time = time.time()\n",
    "            X_best, OF_best, result, NFE = pure_random(pop_size, iteration, num_variables, obj_func, min_val, max_val)\n",
    "            end_time = time.time()\n",
    "            overall_result = overall_result.append({'Function':func_name, 'Num Variables': num_variables,\n",
    "                                                    'best_OF':OF_best[0], 'Pop Size': pop_size, \n",
    "                                                    'Iteration': iteration, 'NFE':NFE[-1].astype(int),\n",
    "                                                    'time (s)':end_time-start_time, 'Best DVs': X_best},\n",
    "                                                   ignore_index=True)\n",
    "\n",
    "        output_file = '%dvar_%dpop_%dit.csv'%(num_variables, pop_size, iteration)\n",
    "        output_dir = Path('%s/Result/Centered/%s'%(alg_name, func_name))\n",
    "        output_dir.mkdir(parents=True, exist_ok=True)\n",
    "        overall_result.to_csv(output_dir / output_file)    "
   ]
  },
  {
   "cell_type": "markdown",
   "id": "6a6f3171",
   "metadata": {},
   "source": [
    "## II. Pure Random with Greedy Strategy Optimization Algorithm"
   ]
  },
  {
   "cell_type": "markdown",
   "id": "fe6edd12",
   "metadata": {},
   "source": [
    "<div class='alert alert-info'>\n",
    "    Non-Centered tests\n",
    "</div>"
   ]
  },
  {
   "cell_type": "code",
   "execution_count": null,
   "id": "f9064af1",
   "metadata": {},
   "outputs": [],
   "source": [
    "alg_name = 'Pure Random Greedy'\n",
    "num_runs = 100\n",
    "\n",
    "min_val, max_val = -100, 100\n",
    "pop_values = np.array([50, 100, 200, 500, 750, 1000])\n",
    "iteration_values = np.array([500, 750, 1000, 2000, 2500])\n",
    "num_variables_values = np.array([2, 10])\n",
    "pop_values_mesh, iteration_values_mesh, num_variables_values_mesh = np.meshgrid(pop_values,\n",
    "                                                                                iteration_values,\n",
    "                                                                                num_variables_values)\n",
    "funcs_index = [1,2,3,4,5,6,7,8,9,10,21,23,24,25,26,27,28]"
   ]
  },
  {
   "cell_type": "code",
   "execution_count": null,
   "id": "1ec1898b",
   "metadata": {},
   "outputs": [],
   "source": [
    "for j in funcs_index:\n",
    "    func_name = 'f%s'%j\n",
    "    obj_func = eval(func_name)\n",
    "    print(func_name)\n",
    "    for i in range(len(pop_values_mesh.flat)):\n",
    "        pop_size = pop_values_mesh.flat[i]\n",
    "        iteration = iteration_values_mesh.flat[i]\n",
    "        num_variables = num_variables_values_mesh.flat[i]\n",
    "        overall_result = pd.DataFrame(columns=['Function', 'Num Variables', 'best_OF', 'Pop Size',\n",
    "                                               'Iteration', 'NFE', 'time (s)', 'Best DVs'])\n",
    "        for m in range(num_runs):\n",
    "            start_time = time.time()\n",
    "            X_best, OF_best, result, NFE = random_greedy(pop_size, iteration, num_variables, obj_func, min_val, max_val)\n",
    "            end_time = time.time()\n",
    "            overall_result = overall_result.append({'Function':func_name, 'Num Variables': num_variables,\n",
    "                                                    'best_OF':OF_best[0], 'Pop Size': pop_size, \n",
    "                                                    'Iteration': iteration, 'NFE':NFE[-1].astype(int),\n",
    "                                                    'time (s)':end_time-start_time, 'Best DVs': X_best},\n",
    "                                                   ignore_index=True)\n",
    "\n",
    "        output_file = '%dvar_%dpop_%dit.csv'%(num_variables, pop_size, iteration)\n",
    "        output_dir = Path('%s/Result/%s'%(alg_name, func_name))\n",
    "        output_dir.mkdir(parents=True, exist_ok=True)\n",
    "        overall_result.to_csv(output_dir / output_file)"
   ]
  },
  {
   "cell_type": "code",
   "execution_count": null,
   "id": "ca1bfe88",
   "metadata": {},
   "outputs": [],
   "source": [
    "funcs_index = [1,2,3,4,5,6,7,8,9,10,21,23,24,25,26,27,28]\n",
    "for f in funcs_index:\n",
    "    for n in num_variables_values:   \n",
    "        summary_report = pd.DataFrame(columns=['Setting', 'NFE', 'Best outcome', 'Worst outcome', 'Avr. of outcomes',\n",
    "                                               'Median of outcomes', 'Std of outcome', 'Avr. runtime (s)',\n",
    "                                               'Fastest runtime (s)', 'Slowest runtime (s)'])\n",
    "        for p in pop_values:\n",
    "            for i in iteration_values:\n",
    "                file_name = '%s/Result/f%d/%dvar_%dpop_%dit.csv'%(alg_name, f, n, p, i)\n",
    "                test_report = pd.read_csv(file_name, index_col=[0])\n",
    "                \n",
    "                bst_out = test_report['best_OF'].min()\n",
    "                wrst_out = test_report['best_OF'].max()\n",
    "                avr_out = test_report['best_OF'].mean()\n",
    "                median_out = test_report['best_OF'].median()\n",
    "                std_out = test_report['best_OF'].std()\n",
    "                avr_time = test_report['time (s)'].mean()\n",
    "                fst_time = test_report['time (s)'].min()\n",
    "                slwst_time = test_report['time (s)'].max()\n",
    "                avr_NFE = test_report['NFE'].mean()\n",
    "                \n",
    "                summary_report = summary_report.append({'Setting': {'Pop': p, 'It.': i}, 'NFE': avr_NFE,\n",
    "                                                        'Best outcome':bst_out, 'Worst outcome':wrst_out,\n",
    "                                                        'Avr. of outcomes':avr_out, 'Median of outcomes':median_out,\n",
    "                                                        'Std of outcome':std_out, 'Avr. runtime (s)':avr_time,\n",
    "                                                        'Fastest runtime (s)':fst_time, 'Slowest runtime (s)':slwst_time},\n",
    "                                                       ignore_index=True)\n",
    "        output_file = '%dvar__summary.csv'%(n)\n",
    "        output_dir = Path('%s/Summary Report/f%d'%(alg_name, f))\n",
    "        output_dir.mkdir(parents=True, exist_ok=True)\n",
    "        summary_report.to_csv(output_dir / output_file)"
   ]
  },
  {
   "cell_type": "markdown",
   "id": "26663398",
   "metadata": {},
   "source": [
    "<div class='alert alert-info'>\n",
    "    Centered test\n",
    "</div>"
   ]
  },
  {
   "cell_type": "code",
   "execution_count": null,
   "id": "dc502c65",
   "metadata": {},
   "outputs": [],
   "source": [
    "alg_name = 'Pure Random Greedy'\n",
    "num_runs = 100\n",
    "\n",
    "pop_values = np.array([50, 100, 200, 500, 750, 1000])\n",
    "iteration_values = np.array([500, 750, 1000, 2000, 2500])\n",
    "num_variables_values = np.array([2, 10])\n",
    "range_dic = {1:(-100, 100), 2:(-10, 10), 4:(-100, 100), 6:(-100, 100), 7:(-1.28, 1.28)}\n",
    "pop_values_mesh, iteration_values_mesh, num_variables_values_mesh = np.meshgrid(pop_values,\n",
    "                                                                                iteration_values,\n",
    "                                                                                num_variables_values)\n",
    "funcs_index = [1,2,4,6,7]"
   ]
  },
  {
   "cell_type": "code",
   "execution_count": null,
   "id": "6f166e8f",
   "metadata": {},
   "outputs": [],
   "source": [
    "for j in funcs_index:\n",
    "    func_name = 'f%s'%j\n",
    "    obj_func = eval(func_name)\n",
    "    min_val, max_val = range_dic[j]\n",
    "    print(func_name)\n",
    "    for i in range(len(pop_values_mesh.flat)):\n",
    "        pop_size = pop_values_mesh.flat[i]\n",
    "        iteration = iteration_values_mesh.flat[i]\n",
    "        num_variables = num_variables_values_mesh.flat[i]\n",
    "        overall_result = pd.DataFrame(columns=['Function', 'Num Variables', 'best_OF', 'Pop Size',\n",
    "                                               'Iteration', 'NFE', 'time (s)', 'Best DVs'])\n",
    "        for m in range(num_runs):\n",
    "            start_time = time.time()\n",
    "            X_best, OF_best, result, NFE = random_greedy(pop_size, iteration, num_variables, obj_func, min_val, max_val)\n",
    "            end_time = time.time()\n",
    "            overall_result = overall_result.append({'Function':func_name, 'Num Variables': num_variables,\n",
    "                                                    'best_OF':OF_best[0], 'Pop Size': pop_size, \n",
    "                                                    'Iteration': iteration, 'NFE':NFE[-1].astype(int),\n",
    "                                                    'time (s)':end_time-start_time, 'Best DVs': X_best},\n",
    "                                                   ignore_index=True)\n",
    "\n",
    "        output_file = '%dvar_%dpop_%dit.csv'%(num_variables, pop_size, iteration)\n",
    "        output_dir = Path('%s/Result/Centered/%s'%(alg_name, func_name))\n",
    "        output_dir.mkdir(parents=True, exist_ok=True)\n",
    "        overall_result.to_csv(output_dir / output_file)"
   ]
  },
  {
   "cell_type": "markdown",
   "id": "fb6786f0",
   "metadata": {},
   "source": [
    "## III. Elite Guided Collective Intelligance Optimization Algorithm"
   ]
  },
  {
   "cell_type": "markdown",
   "id": "b87defdf",
   "metadata": {},
   "source": [
    "<div class='alert alert-info'>\n",
    "    Non-Centered tests\n",
    "</div>"
   ]
  },
  {
   "cell_type": "code",
   "execution_count": null,
   "id": "17811681",
   "metadata": {},
   "outputs": [],
   "source": [
    "alg_name = 'Elite Collective'\n",
    "num_runs = 100\n",
    "\n",
    "min_val, max_val = -100, 100\n",
    "pop_values = np.array([50, 100, 200, 500, 750, 1000])\n",
    "iteration_values = np.array([500, 750, 1000, 2000, 2500])\n",
    "num_variables_values = np.array([2, 10])\n",
    "pop_values_mesh, iteration_values_mesh, num_variables_values_mesh = np.meshgrid(pop_values,\n",
    "                                                                                iteration_values,\n",
    "                                                                                num_variables_values)\n",
    "vect_lenght_values = np.array([.5, 1])\n",
    "funcs_index = [1,2,3,4,5,6,7,8,9,10,21,23,24,25,26,27,28]"
   ]
  },
  {
   "cell_type": "code",
   "execution_count": null,
   "id": "83422e57",
   "metadata": {},
   "outputs": [],
   "source": [
    "for vect_lenght in vect_lenght_values:\n",
    "    for j in funcs_index:\n",
    "        func_name = 'f%s'%j\n",
    "        obj_func = eval(func_name)\n",
    "        print(func_name)\n",
    "        for i in range(len(pop_values_mesh.flat)):\n",
    "            pop_size = pop_values_mesh.flat[i]\n",
    "            iteration = iteration_values_mesh.flat[i]\n",
    "            num_variables = num_variables_values_mesh.flat[i]\n",
    "            overall_result = pd.DataFrame(columns=['Function', 'Num Variables', 'best_OF', 'Pop Size',\n",
    "                                                   'Iteration', 'NFE', 'time (s)', 'Best DVs'])\n",
    "            count = 0\n",
    "            while count < num_runs:\n",
    "                try:\n",
    "                    start_time = time.time()\n",
    "                    X_best, OF_best, result, NFE = elite_guided_collective_intelligance(pop_size, iteration, num_variables,\n",
    "                                                                                        obj_func, min_val, max_val, vect_lenght)\n",
    "                    end_time = time.time()\n",
    "                    overall_result = overall_result.append({'Function':func_name, 'Num Variables': num_variables,\n",
    "                                                            'best_OF':OF_best[0], 'Pop Size': pop_size, \n",
    "                                                            'Iteration': iteration, 'NFE':NFE[-1].astype(int),\n",
    "                                                            'time (s)':end_time-start_time, 'Best DVs': X_best},\n",
    "                                                           ignore_index=True)\n",
    "                    count += 1\n",
    "                except:\n",
    "                    pass\n",
    "\n",
    "            output_file = '%dvar_%dpop_%dit.csv'%(num_variables, pop_size, iteration)\n",
    "            output_dir = Path('%s/Result/vec_%.1f/%s'%(alg_name, vect_lenght, func_name))\n",
    "            output_dir.mkdir(parents=True, exist_ok=True)\n",
    "            overall_result.to_csv(output_dir / output_file)"
   ]
  },
  {
   "cell_type": "code",
   "execution_count": null,
   "id": "f6e61338",
   "metadata": {},
   "outputs": [],
   "source": [
    "for vect_lenght in vect_lenght_values:\n",
    "    for f in funcs_index:\n",
    "        for n in num_variables_values:   \n",
    "            summary_report = pd.DataFrame(columns=['Setting',  'NFE', 'Best outcome', 'Worst outcome', 'Avr. of outcomes',\n",
    "                                                   'Median of outcomes', 'Std of outcome', 'Avr. runtime (s)',\n",
    "                                                   'Fastest runtime (s)', 'Slowest runtime (s)'])\n",
    "            for p in pop_values:\n",
    "                for i in iteration_values:\n",
    "                    file_name = '%s/Result/vec_%.1f/f%d/%dvar_%dpop_%dit.csv'%(alg_name, vect_lenght, f, n, p, i)\n",
    "                    test_report = pd.read_csv(file_name, index_col=[0])\n",
    "\n",
    "                    bst_out = test_report['best_OF'].min()\n",
    "                    wrst_out = test_report['best_OF'].max()\n",
    "                    avr_out = test_report['best_OF'].mean()\n",
    "                    median_out = test_report['best_OF'].median()\n",
    "                    std_out = test_report['best_OF'].std()\n",
    "                    avr_time = test_report['time (s)'].mean()\n",
    "                    fst_time = test_report['time (s)'].min()\n",
    "                    slwst_time = test_report['time (s)'].max()\n",
    "                    avr_NFE = test_report['NFE'].mean()\n",
    "\n",
    "                    summary_report = summary_report.append({'Setting': {'Pop': p, 'It.': i}, 'NFE': avr_NFE,\n",
    "                                                            'Best outcome':bst_out, 'Worst outcome':wrst_out,\n",
    "                                                            'Avr. of outcomes':avr_out, 'Median of outcomes':median_out,\n",
    "                                                            'Std of outcome':std_out, 'Avr. runtime (s)':avr_time,\n",
    "                                                            'Fastest runtime (s)':fst_time,\n",
    "                                                            'Slowest runtime (s)':slwst_time},\n",
    "                                                           ignore_index=True)\n",
    "            output_file = '%dvar__summary.csv'%(n)\n",
    "            output_dir = Path('%s/Summary Report/vec_%.2f/f%d'%(alg_name, vect_lenght, f))\n",
    "            output_dir.mkdir(parents=True, exist_ok=True)\n",
    "            summary_report.to_csv(output_dir / output_file)"
   ]
  },
  {
   "cell_type": "markdown",
   "id": "c3facef8",
   "metadata": {},
   "source": [
    "<div class='alert alert-info'>\n",
    "    Centered test\n",
    "</div>"
   ]
  },
  {
   "cell_type": "code",
   "execution_count": null,
   "id": "88efb327",
   "metadata": {},
   "outputs": [],
   "source": [
    "alg_name = 'Elite Collective'\n",
    "num_runs = 100\n",
    "\n",
    "pop_values = np.array([50, 100, 200, 500, 750, 1000])\n",
    "iteration_values = np.array([500, 750, 1000, 2000, 2500])\n",
    "num_variables_values = np.array([2, 10])\n",
    "range_dic = {1:(-100, 100), 2:(-10, 10), 4:(-100, 100), 6:(-100, 100), 7:(-1.28, 1.28)}\n",
    "pop_values_mesh, iteration_values_mesh, num_variables_values_mesh = np.meshgrid(pop_values,\n",
    "                                                                                iteration_values,\n",
    "                                                                                num_variables_values)\n",
    "vect_lenght_values = np.array([.5, 1])\n",
    "funcs_index = [1,2,4,6,7]"
   ]
  },
  {
   "cell_type": "code",
   "execution_count": null,
   "id": "a090f6c2",
   "metadata": {},
   "outputs": [],
   "source": [
    "for vect_lenght in vect_lenght_values:\n",
    "    for j in funcs_index:\n",
    "        func_name = 'f%s'%j\n",
    "        obj_func = eval(func_name)\n",
    "        min_val, max_val = range_dic[j]\n",
    "        print(func_name)\n",
    "        for i in range(len(pop_values_mesh.flat)):\n",
    "            pop_size = pop_values_mesh.flat[i]\n",
    "            iteration = iteration_values_mesh.flat[i]\n",
    "            num_variables = num_variables_values_mesh.flat[i]\n",
    "            overall_result = pd.DataFrame(columns=['Function', 'Num Variables', 'best_OF', 'Pop Size',\n",
    "                                                   'Iteration', 'NFE', 'time (s)', 'Best DVs'])\n",
    "            count = 0\n",
    "            while count < num_runs:\n",
    "                try:\n",
    "                    start_time = time.time()\n",
    "                    X_best, OF_best, result, NFE = elite_guided_collective_intelligance(pop_size, iteration, num_variables,\n",
    "                                                                                        obj_func, min_val, max_val, vect_lenght)\n",
    "                    end_time = time.time()\n",
    "                    overall_result = overall_result.append({'Function':func_name, 'Num Variables': num_variables,\n",
    "                                                            'best_OF':OF_best[0], 'Pop Size': pop_size, \n",
    "                                                            'Iteration': iteration, 'NFE':NFE[-1].astype(int),\n",
    "                                                            'time (s)':end_time-start_time, 'Best DVs': X_best},\n",
    "                                                           ignore_index=True)\n",
    "                    count += 1\n",
    "                except:\n",
    "                    pass\n",
    "\n",
    "            output_file = '%dvar_%dpop_%dit.csv'%(num_variables, pop_size, iteration)\n",
    "            output_dir = Path('%s/Result/Centered/vec_%.1f/%s'%(alg_name, vect_lenght, func_name))\n",
    "            output_dir.mkdir(parents=True, exist_ok=True)\n",
    "            overall_result.to_csv(output_dir / output_file)"
   ]
  },
  {
   "cell_type": "markdown",
   "id": "ee374191",
   "metadata": {},
   "source": [
    "## IV. Elite Guided Collective Intelligance with Greedy Strategy Optimization Algorithm"
   ]
  },
  {
   "cell_type": "markdown",
   "id": "05eace94",
   "metadata": {},
   "source": [
    "<div class='alert alert-info'>\n",
    "    Non-Centered tests\n",
    "</div>"
   ]
  },
  {
   "cell_type": "code",
   "execution_count": null,
   "id": "6230235d",
   "metadata": {},
   "outputs": [],
   "source": [
    "alg_name = 'Elite Greedy Collective'\n",
    "num_runs = 100\n",
    "\n",
    "min_val, max_val = -100, 100\n",
    "pop_values = np.array([50, 100, 200, 500, 750, 1000])\n",
    "iteration_values = np.array([500, 750, 1000, 2000, 2500])\n",
    "num_variables_values = np.array([2, 10])\n",
    "pop_values_mesh, iteration_values_mesh, num_variables_values_mesh = np.meshgrid(pop_values,\n",
    "                                                                                iteration_values,\n",
    "                                                                                num_variables_values)\n",
    "vect_lenght_values = np.array([.5, 1])\n",
    "funcs_index = [1,2,3,4,5,6,7,8,9,10,21,23,24,25,26,27,28]"
   ]
  },
  {
   "cell_type": "code",
   "execution_count": null,
   "id": "f460ad6f",
   "metadata": {
    "scrolled": true
   },
   "outputs": [],
   "source": [
    "for vect_lenght in vect_lenght_values:\n",
    "    for j in funcs_index:\n",
    "        func_name = 'f%s'%j\n",
    "        obj_func = eval(func_name)\n",
    "        print(func_name)\n",
    "        for i in range(len(pop_values_mesh.flat)):\n",
    "            pop_size = pop_values_mesh.flat[i]\n",
    "            iteration = iteration_values_mesh.flat[i]\n",
    "            num_variables = num_variables_values_mesh.flat[i]\n",
    "            overall_result = pd.DataFrame(columns=['Function', 'Num Variables', 'best_OF', 'Pop Size',\n",
    "                                                   'Iteration', 'NFE', 'time (s)', 'Best DVs'])\n",
    "            count = 0\n",
    "            while count < num_runs:\n",
    "                try:\n",
    "                    start_time = time.time()\n",
    "                    X_best, OF_best, result, NFE = elite_guided_collective_intelligance_greedy(pop_size, iteration,\n",
    "                                                                                               num_variables,\n",
    "                                                                                               obj_func, min_val,\n",
    "                                                                                               max_val, vect_lenght)\n",
    "                    end_time = time.time()\n",
    "                    overall_result = overall_result.append({'Function':func_name, 'Num Variables': num_variables,\n",
    "                                                            'best_OF':OF_best[0], 'Pop Size': pop_size, \n",
    "                                                            'Iteration': iteration, 'NFE':NFE[-1].astype(int),\n",
    "                                                            'time (s)':end_time-start_time, 'Best DVs': X_best},\n",
    "                                                           ignore_index=True)\n",
    "                    count += 1\n",
    "                    \n",
    "                except:\n",
    "                    pass\n",
    "\n",
    "            output_file = '%dvar_%dpop_%dit.csv'%(num_variables, pop_size, iteration)\n",
    "            output_dir = Path('%s/Result/vec_%.1f/%s'%(alg_name, vect_lenght, func_name))\n",
    "            output_dir.mkdir(parents=True, exist_ok=True)\n",
    "            overall_result.to_csv(output_dir / output_file)"
   ]
  },
  {
   "cell_type": "code",
   "execution_count": null,
   "id": "7693ff11",
   "metadata": {},
   "outputs": [],
   "source": [
    "for vect_lenght in vect_lenght_values:\n",
    "    for f in funcs_index:\n",
    "        for n in num_variables_values:   \n",
    "            summary_report = pd.DataFrame(columns=['Setting', 'NFE', 'Best outcome', 'Worst outcome', 'Avr. of outcomes',\n",
    "                                                   'Median of outcomes', 'Std of outcome', 'Avr. runtime (s)',\n",
    "                                                   'Fastest runtime (s)', 'Slowest runtime (s)'])\n",
    "            for p in pop_values:\n",
    "                for i in iteration_values:\n",
    "                    file_name = '%s/Result/vec_%.1f/f%d/%dvar_%dpop_%dit.csv'%(alg_name, vect_lenght, f, n, p, i)\n",
    "                    test_report = pd.read_csv(file_name, index_col=[0])\n",
    "\n",
    "                    bst_out = test_report['best_OF'].min()\n",
    "                    wrst_out = test_report['best_OF'].max()\n",
    "                    avr_out = test_report['best_OF'].mean()\n",
    "                    median_out = test_report['best_OF'].median()\n",
    "                    std_out = test_report['best_OF'].std()\n",
    "                    avr_time = test_report['time (s)'].mean()\n",
    "                    fst_time = test_report['time (s)'].min()\n",
    "                    slwst_time = test_report['time (s)'].max()\n",
    "                    avr_NFE = test_report['NFE'].mean()\n",
    "\n",
    "                    summary_report = summary_report.append({'Setting': {'Pop': p, 'It.': i}, 'NFE': avr_NFE,\n",
    "                                                            'Best outcome':bst_out, 'Worst outcome':wrst_out,\n",
    "                                                            'Avr. of outcomes':avr_out, 'Median of outcomes':median_out,\n",
    "                                                            'Std of outcome':std_out, 'Avr. runtime (s)':avr_time,\n",
    "                                                            'Fastest runtime (s)':fst_time,\n",
    "                                                            'Slowest runtime (s)':slwst_time},\n",
    "                                                           ignore_index=True)\n",
    "            output_file = '%dvar__summary.csv'%(n)\n",
    "            output_dir = Path('%s/Summary Report/vec_%.2f/f%d'%(alg_name, vect_lenght, f))\n",
    "            output_dir.mkdir(parents=True, exist_ok=True)\n",
    "            summary_report.to_csv(output_dir / output_file)"
   ]
  },
  {
   "cell_type": "markdown",
   "id": "08c34b37",
   "metadata": {},
   "source": [
    "<div class='alert alert-info'>\n",
    "    Centered test\n",
    "</div>"
   ]
  },
  {
   "cell_type": "code",
   "execution_count": null,
   "id": "c875ec4e",
   "metadata": {},
   "outputs": [],
   "source": [
    "alg_name = 'Elite Greedy Collective'\n",
    "num_runs = 100\n",
    "\n",
    "min_val, max_val = -100, 100\n",
    "pop_values = np.array([50, 100, 200, 500, 750, 1000])\n",
    "iteration_values = np.array([500, 750, 1000, 2000, 2500])\n",
    "num_variables_values = np.array([2, 10])\n",
    "range_dic = {1:(-100, 100), 2:(-10, 10), 4:(-100, 100), 6:(-100, 100), 7:(-1.28, 1.28)}\n",
    "pop_values_mesh, iteration_values_mesh, num_variables_values_mesh = np.meshgrid(pop_values,\n",
    "                                                                                iteration_values,\n",
    "                                                                                num_variables_values)\n",
    "vect_lenght_values = np.array([.5, 1])\n",
    "funcs_index = [1,2,4,6,7]"
   ]
  },
  {
   "cell_type": "code",
   "execution_count": null,
   "id": "c8757537",
   "metadata": {},
   "outputs": [],
   "source": [
    "for vect_lenght in vect_lenght_values:\n",
    "    for j in funcs_index:\n",
    "        func_name = 'f%s'%j\n",
    "        obj_func = eval(func_name)\n",
    "        min_val, max_val = range_dic[j]\n",
    "        print(func_name)\n",
    "        for i in range(len(pop_values_mesh.flat)):\n",
    "            pop_size = pop_values_mesh.flat[i]\n",
    "            iteration = iteration_values_mesh.flat[i]\n",
    "            num_variables = num_variables_values_mesh.flat[i]\n",
    "            overall_result = pd.DataFrame(columns=['Function', 'Num Variables', 'best_OF', 'Pop Size',\n",
    "                                                   'Iteration', 'NFE', 'time (s)', 'Best DVs'])\n",
    "            count = 0\n",
    "            while count < num_runs:\n",
    "                try:\n",
    "                    start_time = time.time()\n",
    "                    X_best, OF_best, result, NFE = elite_guided_collective_intelligance_greedy(pop_size, iteration,\n",
    "                                                                                               num_variables,\n",
    "                                                                                               obj_func, min_val,\n",
    "                                                                                               max_val, vect_lenght)\n",
    "                    end_time = time.time()\n",
    "                    overall_result = overall_result.append({'Function':func_name, 'Num Variables': num_variables,\n",
    "                                                            'best_OF':OF_best[0], 'Pop Size': pop_size, \n",
    "                                                            'Iteration': iteration, 'NFE':NFE[-1].astype(int),\n",
    "                                                            'time (s)':end_time-start_time, 'Best DVs': X_best},\n",
    "                                                           ignore_index=True)\n",
    "                    count += 1\n",
    "                    \n",
    "                except:\n",
    "                    pass\n",
    "\n",
    "            output_file = '%dvar_%dpop_%dit.csv'%(num_variables, pop_size, iteration)\n",
    "            output_dir = Path('%s/Result/Centered/vec_%.1f/%s'%(alg_name, vect_lenght, func_name))\n",
    "            output_dir.mkdir(parents=True, exist_ok=True)\n",
    "            overall_result.to_csv(output_dir / output_file)"
   ]
  },
  {
   "cell_type": "markdown",
   "id": "7d4d8636",
   "metadata": {},
   "source": [
    "-------\n",
    "# Individual Tests\n",
    "-------"
   ]
  },
  {
   "cell_type": "markdown",
   "id": "fcf438a2",
   "metadata": {},
   "source": [
    "#### Pure Random Optimization Algorithm"
   ]
  },
  {
   "cell_type": "code",
   "execution_count": null,
   "id": "cc22d22c",
   "metadata": {},
   "outputs": [],
   "source": [
    "obj_func = f3\n",
    "func_name = 'f3'\n",
    "alg_name = 'Pure Random'\n",
    "min_val, max_val = -100, 100"
   ]
  },
  {
   "cell_type": "code",
   "execution_count": null,
   "id": "34f143dc",
   "metadata": {},
   "outputs": [],
   "source": [
    "start_time = time.time()\n",
    "\n",
    "X_best, OF_best, result, NFE = pure_random(pop_size, iteration, num_variables, obj_func, min_val, max_val)\n",
    "end_time = time.time()\n",
    "minute = (end_time-start_time)//60\n",
    "second = (end_time-start_time)-60*minute\n",
    "print('Best OF', '='*20)\n",
    "print(OF_best)\n",
    "print('Variables', '='*18)\n",
    "print(X_best)\n",
    "print('Time', '='*22)\n",
    "print('Time: %d min and %.2f s'%(minute, second))"
   ]
  },
  {
   "cell_type": "code",
   "execution_count": null,
   "id": "adad0667",
   "metadata": {
    "scrolled": true
   },
   "outputs": [],
   "source": [
    "fig = plt.plot(NFE, result)\n",
    "fig = plt.grid(alpha=.5)\n",
    "fig = plt.margins(0,.05)\n",
    "fig = plt.axhline(OF_best,ls='--',alpha=.5,c='r')\n",
    "\n",
    "plt.tight_layout()"
   ]
  },
  {
   "cell_type": "markdown",
   "id": "4583444b",
   "metadata": {},
   "source": [
    "#### Pure Random with Greedy Strategy Optimization Algorithm"
   ]
  },
  {
   "cell_type": "code",
   "execution_count": null,
   "id": "d5e71890",
   "metadata": {},
   "outputs": [],
   "source": [
    "obj_func = f28\n",
    "func_name = 'f3'\n",
    "alg_name = 'Pure Random Greedy'\n",
    "num_variables = 2\n",
    "min_val, max_val = -100, 100\n",
    "\n",
    "pop_size, iteration = 100, 200"
   ]
  },
  {
   "cell_type": "code",
   "execution_count": null,
   "id": "91993140",
   "metadata": {},
   "outputs": [],
   "source": [
    "start_time = time.time()\n",
    "\n",
    "X_best, OF_best, result, NFE = random_greedy(pop_size, iteration, num_variables, obj_func, min_val, max_val)\n",
    "end_time = time.time()\n",
    "minute = (end_time-start_time)//60\n",
    "second = (end_time-start_time)-60*minute\n",
    "print('Best OF', '='*20)\n",
    "print(OF_best)\n",
    "print('Variables', '='*18)\n",
    "print(X_best)\n",
    "print('Time', '='*22)\n",
    "print('Time: %d min and %.2f s'%(minute, second))"
   ]
  },
  {
   "cell_type": "code",
   "execution_count": null,
   "id": "aacbbb01",
   "metadata": {
    "scrolled": true
   },
   "outputs": [],
   "source": [
    "fig = plt.plot(NFE, result)\n",
    "fig = plt.grid(alpha=.5)\n",
    "fig = plt.margins(0,.05)\n",
    "fig = plt.axhline(OF_best,ls='--',alpha=.5,c='r')\n",
    "\n",
    "plt.tight_layout()"
   ]
  },
  {
   "cell_type": "markdown",
   "id": "bcd3b5c8",
   "metadata": {},
   "source": [
    "#### Elite Guided Collective Intelligance Optimization Algorithm"
   ]
  },
  {
   "cell_type": "markdown",
   "id": "92e1e37d",
   "metadata": {},
   "source": [
    "##### Vector Lenght for Elite Correction [vect_lenght = .5]"
   ]
  },
  {
   "cell_type": "code",
   "execution_count": null,
   "id": "39d83056",
   "metadata": {},
   "outputs": [],
   "source": [
    "obj_func = f3\n",
    "func_name = 'f3'\n",
    "alg_name = 'Elite Collective'\n",
    "num_variables = 10\n",
    "min_val, max_val = -100, 100\n",
    "\n",
    "pop_size, iteration = 1000, 5000\n",
    "vect_lenght = .5"
   ]
  },
  {
   "cell_type": "code",
   "execution_count": null,
   "id": "779fa5b1",
   "metadata": {},
   "outputs": [],
   "source": [
    "start_time = time.time()\n",
    "\n",
    "X_best, OF_best, result, NFE = elite_guided_collective_intelligance(pop_size, iteration, num_variables,\n",
    "                                                                    obj_func, min_val, max_val, vect_lenght)\n",
    "end_time = time.time()\n",
    "minute = (end_time-start_time)//60\n",
    "second = (end_time-start_time)-60*minute\n",
    "print('Best OF', '='*20)\n",
    "print(OF_best)\n",
    "print('Variables', '='*18)\n",
    "print(X_best)\n",
    "print('Time', '='*22)\n",
    "print('Time: %d min and %.2f s'%(minute, second))"
   ]
  },
  {
   "cell_type": "code",
   "execution_count": null,
   "id": "92eb337d",
   "metadata": {
    "scrolled": true
   },
   "outputs": [],
   "source": [
    "fig = plt.plot(NFE, result)\n",
    "fig = plt.grid(alpha=.5)\n",
    "fig = plt.margins(0,.05)\n",
    "fig = plt.axhline(OF_best,ls='--',alpha=.5,c='r')\n",
    "\n",
    "plt.tight_layout()"
   ]
  },
  {
   "cell_type": "markdown",
   "id": "40f6e7f8",
   "metadata": {},
   "source": [
    "##### Vector Lenght for Elite Correction [vect_lenght = 1]"
   ]
  },
  {
   "cell_type": "code",
   "execution_count": null,
   "id": "1e63cdc6",
   "metadata": {},
   "outputs": [],
   "source": [
    "obj_func = f3\n",
    "func_name = 'f3'\n",
    "alg_name = 'Elite Collective'\n",
    "num_variables = 10\n",
    "min_val, max_val = -100, 100\n",
    "\n",
    "pop_size, iteration = 1000, 5000\n",
    "vect_lenght = 1"
   ]
  },
  {
   "cell_type": "code",
   "execution_count": null,
   "id": "213a1ac9",
   "metadata": {},
   "outputs": [],
   "source": [
    "start_time = time.time()\n",
    "\n",
    "X_best, OF_best, result, NFE = elite_guided_collective_intelligance(pop_size, iteration, num_variables,\n",
    "                                                                    obj_func, min_val, max_val, vect_lenght)\n",
    "end_time = time.time()\n",
    "minute = (end_time-start_time)//60\n",
    "second = (end_time-start_time)-60*minute\n",
    "print('Best OF', '='*20)\n",
    "print(OF_best)\n",
    "print('Variables', '='*18)\n",
    "print(X_best)\n",
    "print('Time', '='*22)\n",
    "print('Time: %d min and %.2f s'%(minute, second))"
   ]
  },
  {
   "cell_type": "code",
   "execution_count": null,
   "id": "3a9e0338",
   "metadata": {
    "scrolled": true
   },
   "outputs": [],
   "source": [
    "fig = plt.plot(NFE, result)\n",
    "fig = plt.grid(alpha=.5)\n",
    "fig = plt.margins(0,.05)\n",
    "fig = plt.axhline(OF_best,ls='--',alpha=.5,c='r')\n",
    "\n",
    "plt.tight_layout()"
   ]
  },
  {
   "cell_type": "markdown",
   "id": "b2f7fccd",
   "metadata": {},
   "source": [
    "##### Vector Lenght for Elite Correction [vect_lenght = 1.5]"
   ]
  },
  {
   "cell_type": "code",
   "execution_count": null,
   "id": "cfe20886",
   "metadata": {},
   "outputs": [],
   "source": [
    "obj_func = f3\n",
    "func_name = 'f3'\n",
    "alg_name = 'Elite Collective'\n",
    "num_variables = 10\n",
    "min_val, max_val = -100, 100\n",
    "\n",
    "pop_size, iteration = 1000, 5000\n",
    "vect_lenght = 1.5"
   ]
  },
  {
   "cell_type": "code",
   "execution_count": null,
   "id": "7a45de3a",
   "metadata": {},
   "outputs": [],
   "source": [
    "start_time = time.time()\n",
    "\n",
    "X_best, OF_best, result, NFE = elite_guided_collective_intelligance(pop_size, iteration, num_variables,\n",
    "                                                                    obj_func, min_val, max_val, vect_lenght)\n",
    "end_time = time.time()\n",
    "minute = (end_time-start_time)//60\n",
    "second = (end_time-start_time)-60*minute\n",
    "print('Best OF', '='*20)\n",
    "print(OF_best)\n",
    "print('Variables', '='*18)\n",
    "print(X_best)\n",
    "print('Time', '='*22)\n",
    "print('Time: %d min and %.2f s'%(minute, second))"
   ]
  },
  {
   "cell_type": "code",
   "execution_count": null,
   "id": "12839529",
   "metadata": {
    "scrolled": true
   },
   "outputs": [],
   "source": [
    "fig = plt.plot(NFE, result)\n",
    "fig = plt.grid(alpha=.5)\n",
    "fig = plt.margins(0,.05)\n",
    "fig = plt.axhline(OF_best,ls='--',alpha=.5,c='r')\n",
    "\n",
    "plt.tight_layout()"
   ]
  },
  {
   "cell_type": "markdown",
   "id": "2e714e76",
   "metadata": {},
   "source": [
    "##### Vector Lenght for Elite Correction [vect_lenght = 2]"
   ]
  },
  {
   "cell_type": "code",
   "execution_count": null,
   "id": "f32a9ce5",
   "metadata": {},
   "outputs": [],
   "source": [
    "obj_func = f3\n",
    "func_name = 'f3'\n",
    "alg_name = 'Elite Collective'\n",
    "num_variables = 10\n",
    "min_val, max_val = -100, 100\n",
    "\n",
    "pop_size, iteration = 1000, 5000\n",
    "vect_lenght = 2"
   ]
  },
  {
   "cell_type": "code",
   "execution_count": null,
   "id": "cf992b8d",
   "metadata": {},
   "outputs": [],
   "source": [
    "start_time = time.time()\n",
    "\n",
    "X_best, OF_best, result, NFE = elite_guided_collective_intelligance(pop_size, iteration, num_variables,\n",
    "                                                                    obj_func, min_val, max_val, vect_lenght)\n",
    "end_time = time.time()\n",
    "minute = (end_time-start_time)//60\n",
    "second = (end_time-start_time)-60*minute\n",
    "print('Best OF', '='*20)\n",
    "print(OF_best)\n",
    "print('Variables', '='*18)\n",
    "print(X_best)\n",
    "print('Time', '='*22)\n",
    "print('Time: %d min and %.2f s'%(minute, second))"
   ]
  },
  {
   "cell_type": "code",
   "execution_count": null,
   "id": "5436ce8c",
   "metadata": {
    "scrolled": true
   },
   "outputs": [],
   "source": [
    "fig = plt.plot(NFE, result)\n",
    "fig = plt.grid(alpha=.5)\n",
    "fig = plt.margins(0,.05)\n",
    "fig = plt.axhline(OF_best,ls='--',alpha=.5,c='r')\n",
    "\n",
    "plt.tight_layout()"
   ]
  },
  {
   "cell_type": "markdown",
   "id": "ee8fd06b",
   "metadata": {},
   "source": [
    "##### Vector Lenght for Elite Correction [vect_lenght = 2.5]"
   ]
  },
  {
   "cell_type": "code",
   "execution_count": null,
   "id": "56e13b08",
   "metadata": {},
   "outputs": [],
   "source": [
    "obj_func = f3\n",
    "func_name = 'f3'\n",
    "alg_name = 'Elite Collective'\n",
    "num_variables = 10\n",
    "min_val, max_val = -100, 100\n",
    "\n",
    "pop_size, iteration = 1000, 5000\n",
    "vect_lenght = 2.5"
   ]
  },
  {
   "cell_type": "code",
   "execution_count": null,
   "id": "1ce0b0b2",
   "metadata": {},
   "outputs": [],
   "source": [
    "start_time = time.time()\n",
    "\n",
    "X_best, OF_best, result, NFE = elite_guided_collective_intelligance(pop_size, iteration, num_variables,\n",
    "                                                                    obj_func, min_val, max_val, vect_lenght)\n",
    "end_time = time.time()\n",
    "minute = (end_time-start_time)//60\n",
    "second = (end_time-start_time)-60*minute\n",
    "print('Best OF', '='*20)\n",
    "print(OF_best)\n",
    "print('Variables', '='*18)\n",
    "print(X_best)\n",
    "print('Time', '='*22)\n",
    "print('Time: %d min and %.2f s'%(minute, second))"
   ]
  },
  {
   "cell_type": "code",
   "execution_count": null,
   "id": "f83336bd",
   "metadata": {
    "scrolled": true
   },
   "outputs": [],
   "source": [
    "fig = plt.plot(NFE, result)\n",
    "fig = plt.grid(alpha=.5)\n",
    "fig = plt.margins(0,.05)\n",
    "fig = plt.axhline(OF_best,ls='--',alpha=.5,c='r')\n",
    "\n",
    "plt.tight_layout()"
   ]
  },
  {
   "cell_type": "markdown",
   "id": "fcde125f",
   "metadata": {},
   "source": [
    "#### Vector Lenght for Elite Correction [vect_lenght = 3]"
   ]
  },
  {
   "cell_type": "code",
   "execution_count": null,
   "id": "93c46f79",
   "metadata": {},
   "outputs": [],
   "source": [
    "obj_func = f3\n",
    "func_name = 'f3'\n",
    "alg_name = 'Elite Collective'\n",
    "num_variables = 10\n",
    "min_val, max_val = -100, 100\n",
    "\n",
    "pop_size, iteration = 1000, 5000\n",
    "vect_lenght = 3"
   ]
  },
  {
   "cell_type": "code",
   "execution_count": null,
   "id": "b2510738",
   "metadata": {},
   "outputs": [],
   "source": [
    "start_time = time.time()\n",
    "\n",
    "X_best, OF_best, result, NFE = elite_guided_collective_intelligance(pop_size, iteration, num_variables,\n",
    "                                                                    obj_func, min_val, max_val, vect_lenght)\n",
    "end_time = time.time()\n",
    "minute = (end_time-start_time)//60\n",
    "second = (end_time-start_time)-60*minute\n",
    "print('Best OF', '='*20)\n",
    "print(OF_best)\n",
    "print('Variables', '='*18)\n",
    "print(X_best)\n",
    "print('Time', '='*22)\n",
    "print('Time: %d min and %.2f s'%(minute, second))"
   ]
  },
  {
   "cell_type": "code",
   "execution_count": null,
   "id": "50720d8f",
   "metadata": {
    "scrolled": false
   },
   "outputs": [],
   "source": [
    "fig = plt.plot(NFE, result)\n",
    "fig = plt.grid(alpha=.5)\n",
    "fig = plt.margins(0,.05)\n",
    "fig = plt.axhline(OF_best,ls='--',alpha=.5,c='r')\n",
    "\n",
    "plt.tight_layout()"
   ]
  },
  {
   "cell_type": "markdown",
   "id": "05a72168",
   "metadata": {},
   "source": [
    "#### Elite Guided Collective Intelligance with Greedy Strategy Optimization Algorithm"
   ]
  },
  {
   "cell_type": "markdown",
   "id": "905deb8f",
   "metadata": {},
   "source": [
    "##### Vector Lenght for Elite Correction [vect_lenght = .5]"
   ]
  },
  {
   "cell_type": "code",
   "execution_count": null,
   "id": "62e993d9",
   "metadata": {},
   "outputs": [],
   "source": [
    "obj_func = f21\n",
    "func_name = 'f24'\n",
    "alg_name = 'Elite Greedy Collective'\n",
    "num_variables = 2\n",
    "min_val, max_val = -50, 500\n",
    "\n",
    "pop_size, iteration = 200, 500\n",
    "vect_lenght = .5"
   ]
  },
  {
   "cell_type": "code",
   "execution_count": null,
   "id": "0939ece5",
   "metadata": {},
   "outputs": [],
   "source": [
    "start_time = time.time()\n",
    "\n",
    "X_best, OF_best, result, NFE = elite_guided_collective_intelligance_greedy(pop_size, iteration, num_variables,\n",
    "                                                                           obj_func, min_val, max_val, vect_lenght)\n",
    "end_time = time.time()\n",
    "minute = (end_time-start_time)//60\n",
    "second = (end_time-start_time)-60*minute\n",
    "print('Best OF', '='*20)\n",
    "print(OF_best)\n",
    "print('Variables', '='*18)\n",
    "print(X_best)\n",
    "print('Time', '='*22)\n",
    "print('Time: %d min and %.2f s'%(minute, second))"
   ]
  },
  {
   "cell_type": "code",
   "execution_count": null,
   "id": "c44db62f",
   "metadata": {
    "scrolled": false
   },
   "outputs": [],
   "source": [
    "fig = plt.plot(NFE, result)\n",
    "fig = plt.grid(alpha=.5)\n",
    "fig = plt.margins(0,.05)\n",
    "fig = plt.axhline(OF_best,ls='--',alpha=.5,c='r')\n",
    "\n",
    "plt.tight_layout()"
   ]
  },
  {
   "cell_type": "markdown",
   "id": "b9b608f8",
   "metadata": {},
   "source": [
    "##### Vector Lenght for Elite Correction [vect_lenght = 1]"
   ]
  },
  {
   "cell_type": "code",
   "execution_count": null,
   "id": "81143aae",
   "metadata": {},
   "outputs": [],
   "source": [
    "obj_func = f3\n",
    "func_name = 'f3'\n",
    "alg_name = 'Elite Greedy Collective'\n",
    "num_variables = 10\n",
    "min_val, max_val = -100, 100\n",
    "\n",
    "pop_size, iteration = 1000, 5000\n",
    "vect_lenght = 1"
   ]
  },
  {
   "cell_type": "code",
   "execution_count": null,
   "id": "8a85245e",
   "metadata": {},
   "outputs": [],
   "source": [
    "start_time = time.time()\n",
    "\n",
    "X_best, OF_best, result, NFE = elite_guided_collective_intelligance_greedy(pop_size, iteration, num_variables,\n",
    "                                                                           obj_func, min_val, max_val, vect_lenght)\n",
    "end_time = time.time()\n",
    "minute = (end_time-start_time)//60\n",
    "second = (end_time-start_time)-60*minute\n",
    "print('Best OF', '='*20)\n",
    "print(OF_best)\n",
    "print('Variables', '='*18)\n",
    "print(X_best)\n",
    "print('Time', '='*22)\n",
    "print('Time: %d min and %.2f s'%(minute, second))"
   ]
  },
  {
   "cell_type": "code",
   "execution_count": null,
   "id": "0b8a84e3",
   "metadata": {
    "scrolled": true
   },
   "outputs": [],
   "source": [
    "fig = plt.plot(NFE, result)\n",
    "fig = plt.grid(alpha=.5)\n",
    "fig = plt.margins(0,.05)\n",
    "fig = plt.axhline(OF_best,ls='--',alpha=.5,c='r')\n",
    "\n",
    "plt.tight_layout()"
   ]
  },
  {
   "cell_type": "markdown",
   "id": "331d36d0",
   "metadata": {},
   "source": [
    "##### Vector Lenght for Elite Correction [vect_lenght = 1.5]"
   ]
  },
  {
   "cell_type": "code",
   "execution_count": null,
   "id": "d50db7e5",
   "metadata": {},
   "outputs": [],
   "source": [
    "obj_func = f3\n",
    "func_name = 'f3'\n",
    "alg_name = 'Elite Greedy Collective'\n",
    "num_variables = 10\n",
    "min_val, max_val = -100, 100\n",
    "\n",
    "pop_size, iteration = 1000, 5000\n",
    "vect_lenght = 1.5"
   ]
  },
  {
   "cell_type": "code",
   "execution_count": null,
   "id": "a1b22f1c",
   "metadata": {},
   "outputs": [],
   "source": [
    "start_time = time.time()\n",
    "\n",
    "X_best, OF_best, result, NFE = elite_guided_collective_intelligance_greedy(pop_size, iteration, num_variables,\n",
    "                                                                           obj_func, min_val, max_val, vect_lenght)\n",
    "end_time = time.time()\n",
    "minute = (end_time-start_time)//60\n",
    "second = (end_time-start_time)-60*minute\n",
    "print('Best OF', '='*20)\n",
    "print(OF_best)\n",
    "print('Variables', '='*18)\n",
    "print(X_best)\n",
    "print('Time', '='*22)\n",
    "print('Time: %d min and %.2f s'%(minute, second))"
   ]
  },
  {
   "cell_type": "code",
   "execution_count": null,
   "id": "9e5f791d",
   "metadata": {
    "scrolled": true
   },
   "outputs": [],
   "source": [
    "fig = plt.plot(NFE, result)\n",
    "fig = plt.grid(alpha=.5)\n",
    "fig = plt.margins(0,.05)\n",
    "fig = plt.axhline(OF_best,ls='--',alpha=.5,c='r')\n",
    "\n",
    "plt.tight_layout()"
   ]
  },
  {
   "cell_type": "markdown",
   "id": "f2cf3a95",
   "metadata": {},
   "source": [
    "##### Vector Lenght for Elite Correction [vect_lenght = 2]"
   ]
  },
  {
   "cell_type": "code",
   "execution_count": null,
   "id": "726816a1",
   "metadata": {},
   "outputs": [],
   "source": [
    "obj_func = f3\n",
    "func_name = 'f3'\n",
    "alg_name = 'Elite Greedy Collective'\n",
    "num_variables = 10\n",
    "min_val, max_val = -100, 100\n",
    "\n",
    "pop_size, iteration = 1000, 5000\n",
    "vect_lenght = 2"
   ]
  },
  {
   "cell_type": "code",
   "execution_count": null,
   "id": "dc38cf07",
   "metadata": {},
   "outputs": [],
   "source": [
    "start_time = time.time()\n",
    "\n",
    "X_best, OF_best, result, NFE = elite_guided_collective_intelligance_greedy(pop_size, iteration, num_variables,\n",
    "                                                                           obj_func, min_val, max_val, vect_lenght)\n",
    "end_time = time.time()\n",
    "minute = (end_time-start_time)//60\n",
    "second = (end_time-start_time)-60*minute\n",
    "print('Best OF', '='*20)\n",
    "print(OF_best)\n",
    "print('Variables', '='*18)\n",
    "print(X_best)\n",
    "print('Time', '='*22)\n",
    "print('Time: %d min and %.2f s'%(minute, second))"
   ]
  },
  {
   "cell_type": "code",
   "execution_count": null,
   "id": "d57a0816",
   "metadata": {
    "scrolled": true
   },
   "outputs": [],
   "source": [
    "fig = plt.plot(NFE, result)\n",
    "fig = plt.grid(alpha=.5)\n",
    "fig = plt.margins(0,.05)\n",
    "fig = plt.axhline(OF_best,ls='--',alpha=.5,c='r')\n",
    "\n",
    "plt.tight_layout()"
   ]
  },
  {
   "cell_type": "markdown",
   "id": "569e83db",
   "metadata": {},
   "source": [
    "##### Vector Lenght for Elite Correction [vect_lenght = 2.5]"
   ]
  },
  {
   "cell_type": "code",
   "execution_count": null,
   "id": "891ca0f9",
   "metadata": {},
   "outputs": [],
   "source": [
    "obj_func = f3\n",
    "func_name = 'f3'\n",
    "alg_name = 'Elite Greedy Collective'\n",
    "num_variables = 10\n",
    "min_val, max_val = -100, 100\n",
    "\n",
    "pop_size, iteration = 1000, 5000\n",
    "vect_lenght = 2.5"
   ]
  },
  {
   "cell_type": "code",
   "execution_count": null,
   "id": "8ecfe49f",
   "metadata": {},
   "outputs": [],
   "source": [
    "start_time = time.time()\n",
    "\n",
    "X_best, OF_best, result, NFE = elite_guided_collective_intelligance_greedy(pop_size, iteration, num_variables,\n",
    "                                                                           obj_func, min_val, max_val, vect_lenght)\n",
    "end_time = time.time()\n",
    "minute = (end_time-start_time)//60\n",
    "second = (end_time-start_time)-60*minute\n",
    "print('Best OF', '='*20)\n",
    "print(OF_best)\n",
    "print('Variables', '='*18)\n",
    "print(X_best)\n",
    "print('Time', '='*22)\n",
    "print('Time: %d min and %.2f s'%(minute, second))"
   ]
  },
  {
   "cell_type": "code",
   "execution_count": null,
   "id": "cbf6b5e9",
   "metadata": {
    "scrolled": true
   },
   "outputs": [],
   "source": [
    "fig = plt.plot(NFE, result)\n",
    "fig = plt.grid(alpha=.5)\n",
    "fig = plt.margins(0,.05)\n",
    "fig = plt.axhline(OF_best,ls='--',alpha=.5,c='r')\n",
    "\n",
    "plt.tight_layout()"
   ]
  },
  {
   "cell_type": "markdown",
   "id": "4e42b647",
   "metadata": {},
   "source": [
    "##### Vector Lenght for Elite Correction [vect_lenght = 3]"
   ]
  },
  {
   "cell_type": "code",
   "execution_count": null,
   "id": "7db773ba",
   "metadata": {},
   "outputs": [],
   "source": [
    "obj_func = f3\n",
    "func_name = 'f3'\n",
    "alg_name = 'Elite Greedy Collective'\n",
    "num_variables = 10\n",
    "min_val, max_val = -100, 100\n",
    "\n",
    "pop_size, iteration = 1000, 5000\n",
    "vect_lenght = 3"
   ]
  },
  {
   "cell_type": "code",
   "execution_count": null,
   "id": "8fb5660c",
   "metadata": {},
   "outputs": [],
   "source": [
    "start_time = time.time()\n",
    "\n",
    "X_best, OF_best, result, NFE = elite_guided_collective_intelligance_greedy(pop_size, iteration, num_variables,\n",
    "                                                                           obj_func, min_val, max_val, vect_lenght)\n",
    "end_time = time.time()\n",
    "minute = (end_time-start_time)//60\n",
    "second = (end_time-start_time)-60*minute\n",
    "print('Best OF', '='*20)\n",
    "print(OF_best)\n",
    "print('Variables', '='*18)\n",
    "print(X_best)\n",
    "print('Time', '='*22)\n",
    "print('Time: %d min and %.2f s'%(minute, second))"
   ]
  },
  {
   "cell_type": "code",
   "execution_count": null,
   "id": "0cf75f42",
   "metadata": {
    "scrolled": true
   },
   "outputs": [],
   "source": [
    "fig = plt.plot(NFE, result)\n",
    "fig = plt.grid(alpha=.5)\n",
    "fig = plt.margins(0,.05)\n",
    "fig = plt.axhline(OF_best,ls='--',alpha=.5,c='r')\n",
    "\n",
    "plt.tight_layout()"
   ]
  }
 ],
 "metadata": {
  "kernelspec": {
   "display_name": "Python 3 (ipykernel)",
   "language": "python",
   "name": "python3"
  },
  "language_info": {
   "codemirror_mode": {
    "name": "ipython",
    "version": 3
   },
   "file_extension": ".py",
   "mimetype": "text/x-python",
   "name": "python",
   "nbconvert_exporter": "python",
   "pygments_lexer": "ipython3",
   "version": "3.9.13"
  }
 },
 "nbformat": 4,
 "nbformat_minor": 5
}
