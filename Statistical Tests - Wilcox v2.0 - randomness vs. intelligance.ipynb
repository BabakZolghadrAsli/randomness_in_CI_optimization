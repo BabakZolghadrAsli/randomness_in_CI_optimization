{
 "cells": [
  {
   "cell_type": "markdown",
   "id": "5ddd8351",
   "metadata": {},
   "source": [
    "# Wilcoxon Signed-Rank Test\n",
    "by: *Babak Zolghadr-Asli*"
   ]
  },
  {
   "cell_type": "code",
   "execution_count": null,
   "id": "43a5a375",
   "metadata": {},
   "outputs": [],
   "source": [
    "from scipy.stats import wilcoxon\n",
    "import numpy as np\n",
    "import pandas as pd\n",
    "import matplotlib.pyplot as plt\n",
    "import time\n",
    "from pathlib import Path\n",
    "import seaborn as sns\n",
    "import os\n",
    "from joypy import joyplot\n",
    "from matplotlib import cm\n",
    "\n",
    "%matplotlib inline"
   ]
  },
  {
   "cell_type": "markdown",
   "id": "8b440db5",
   "metadata": {},
   "source": [
    "<div class=\"alert alert-danger\">\n",
    "    <b>SYNTAX GUIDE</b>\n",
    "</div>"
   ]
  },
  {
   "cell_type": "markdown",
   "id": "9e92cbf4",
   "metadata": {},
   "source": [
    "In order for this script/notebook to work, you need to store the files with a specified name-syntax;\n",
    "\n",
    "* **Step I.** First all the files in specified folders, where the folder name is as the same as the algorithm name.\n",
    "* **Step II.** If need be, pass the current direcoty that holds the files to `root_directory` as a `str` object; Note that if you are using a windows base machine you have to use `\\` to seprate files location in your directory adress.  \n",
    "* **Step III.** All results must be stored in a csv file, with the name `'a_fb_result.csv` where `a` is a placeholder for the **algorithm name**, and `b` is the number associated for the function. \n",
    "\n",
    "\n",
    "\n",
    "* Note that all these files should have a columns `best_OF`."
   ]
  },
  {
   "cell_type": "code",
   "execution_count": null,
   "id": "76733fef",
   "metadata": {
    "scrolled": false
   },
   "outputs": [],
   "source": [
    "root_directory = 'C:/Users/bz267/Optimization results/Randomness vs Intelligance'\n",
    "\n",
    "alg_list_temp = os.listdir(root_directory)\n",
    "alg_list = [i for i in alg_list_temp if not i.startswith(tuple(str(i) for i in range(10)))]\n",
    "print('=='*30)\n",
    "print('The follwing algorithms are to be evaluted in this sessin:')\n",
    "print('=='*30)\n",
    "for i, alg_name in enumerate(alg_list):\n",
    "    print('[%d] %s'%((i+1), alg_name))\n",
    "print('--'*25)"
   ]
  },
  {
   "cell_type": "code",
   "execution_count": null,
   "id": "6f6f8ee2",
   "metadata": {},
   "outputs": [],
   "source": [
    "loc = 'C:/Users/bz267/Optimization results/Randomness vs Intelligance/Elite_Collective_v5/Result/Non-Centered/f1/'\n",
    "comp_list = os.listdir(loc)\n",
    "selct_list = [i for i in comp_list if i.startswith('2var')]\n",
    "nfe_db = pd.DataFrame(columns=['Pop', 'Itr', 'NFE'])\n",
    "for file_name in selct_list:\n",
    "    dirct = loc+file_name\n",
    "    db_temp = pd.read_csv(dirct)\n",
    "    a, b, c = db_temp['Pop Size'][0], db_temp['Iteration'][0], db_temp['NFE'][0]\n",
    "    temp_series = pd.DataFrame([a, b, c], index=['Pop', 'Itr', 'NFE']).transpose()\n",
    "    nfe_db = pd.concat((nfe_db, temp_series), ignore_index=True)\n",
    "nfe_db.sort_values(['NFE'], inplace=True)\n",
    "nfe_db.reset_index(inplace=True)\n",
    "nfe_db.drop(columns=['index'], inplace=True)\n",
    "nfe_db.head()"
   ]
  },
  {
   "cell_type": "markdown",
   "id": "8b7cf130",
   "metadata": {},
   "source": [
    "<div class=\"alert alert-success\">\n",
    "    <b>PLOTS</b>\n",
    "</div>"
   ]
  },
  {
   "cell_type": "code",
   "execution_count": null,
   "id": "098deeb3",
   "metadata": {
    "scrolled": false
   },
   "outputs": [],
   "source": [
    "fig = plt.figure(figsize=(12, 6), dpi=300)\n",
    "\n",
    "fig = plt.subplot(2,1,1)\n",
    "fig = plt.plot(np.arange(len(nfe_db)),nfe_db['NFE'], marker='x', mec='r')\n",
    "fig = plt.grid(alpha=.2)\n",
    "fig = plt.margins(0.005,.05)\n",
    "fig = plt.ylabel('NFE values')\n",
    "# for index in range(len(nfe_db)):\n",
    "#     fig = plt.text(index-.15, nfe_db['NFE'][index],\n",
    "#                    '(Pop: %d, Itr: %d)'%(nfe_db['Pop'][index], nfe_db['Itr'][index]),\n",
    "#                    size='xx-small')\n",
    "\n",
    "fig = plt.subplot(2,1,2)\n",
    "fig = plt.plot(np.arange(len(nfe_db)),nfe_db['Pop'], label='pop size')\n",
    "fig = plt.plot(np.arange(len(nfe_db)),nfe_db['Itr'], label='max iteration')\n",
    "fig = plt.grid(alpha=.2)\n",
    "fig = plt.margins(0.005,.05)\n",
    "fig = plt.legend(loc='best', framealpha=.5)\n",
    "\n",
    "fig = plt.tight_layout()"
   ]
  },
  {
   "cell_type": "code",
   "execution_count": null,
   "id": "7ef264f4",
   "metadata": {},
   "outputs": [],
   "source": [
    "loc = 'C:/Users/bz267/Optimization results/Randomness vs Intelligance/Elite_Collective_v5/Result/Non-Centered/f1/'\n",
    "names_2var = [i for i in comp_list if i.startswith('2var')]\n",
    "names_10var = [i for i in comp_list if i.startswith('10var')]"
   ]
  },
  {
   "cell_type": "markdown",
   "id": "56c76c2c",
   "metadata": {},
   "source": [
    "<div class=\"alert alert-info\">\n",
    "    <b>I. Non-Centered</b>\n",
    "</div>"
   ]
  },
  {
   "cell_type": "code",
   "execution_count": null,
   "id": "c759cd33",
   "metadata": {},
   "outputs": [],
   "source": [
    "func_num = [1,2,3,4,5,6,7,8,9,10,21,23,24,25,26,27,28]\n",
    "pop_values = np.array([100, 200, 500, 750, 1000])\n",
    "iteration_values = np.array([500, 750, 1000, 2000, 2500])\n",
    "num_variables_values = np.array([2, 10])"
   ]
  },
  {
   "cell_type": "code",
   "execution_count": null,
   "id": "10bd8eb3",
   "metadata": {
    "scrolled": true
   },
   "outputs": [],
   "source": [
    "# RAEDING AND CREATING FILES WITH OFS OF ALL FUNCTIONS\n",
    "columns = ['Pop', 'Itr', 'NFE', 'Min', 'Q25', 'Q50', 'Q75', 'Max', 'Avr', 'Std']\n",
    "for num_var in num_variables_values:\n",
    "    full_name_list = eval('names_%dvar'%num_var)\n",
    "    for f in func_num:\n",
    "        for alg_name in alg_list:\n",
    "            globals()['nc_%dvar_f%d_%s'%(num_var, f, alg_name)] = pd.DataFrame(columns=columns)\n",
    "            for file_name in full_name_list:\n",
    "                folder_name = '/%s/Result/Non-Centered/f%d/'%(alg_name, f)\n",
    "                db = pd.read_csv(root_directory+folder_name+file_name)\n",
    "                q1, q2, q3 = db['best_OF'].quantile(0.25), db['best_OF'].quantile(0.5), db['best_OF'].quantile(0.75)\n",
    "                q0, q4 = db['best_OF'].min(), db['best_OF'].max()\n",
    "                mean, std = db['best_OF'].mean(), db['best_OF'].std()\n",
    "                pop, it, NFE = db['Pop Size'][0], db['Iteration'][0], db['NFE'][0]\n",
    "                temp_db = pd.DataFrame([pop, it, NFE, q0, q1, q2, q3, q4, mean, std], index=columns).transpose()\n",
    "                exec('nc_%dvar_f%d_%s = pd.concat((nc_%dvar_f%d_%s, temp_db), ignore_index=True)'%(num_var, f, alg_name, num_var, f, alg_name))\n",
    "            eval(\"nc_%dvar_f%d_%s.sort_values(['NFE'], inplace=True)\"%(num_var, f, alg_name,))"
   ]
  },
  {
   "cell_type": "code",
   "execution_count": null,
   "id": "bf6d5893",
   "metadata": {
    "scrolled": true
   },
   "outputs": [],
   "source": [
    "num_var = 10 #2\n",
    "\n",
    "alg_name = 'Elite_Greedy_Collective_v5'#'Pure_Random_Greedy' #'Elite_Greedy_Collective_v1'#'Elite_Greedy_Collective_v5'#'Elite_Collective_v5'#'Elite_Collective_v1'\n",
    "\n",
    "func_num = 4\n",
    "plot_db = eval(\"nc_%dvar_f%d_%s\"%(num_var, func_num, alg_name))"
   ]
  },
  {
   "cell_type": "code",
   "execution_count": null,
   "id": "e5c66201",
   "metadata": {},
   "outputs": [],
   "source": [
    "fig = plt.figure(figsize=(12, 7), dpi=300)\n",
    "\n",
    "fig = plt.subplot(2,1,1)\n",
    "fig = plt.fill_between(np.arange(len(plot_db)), plot_db['Min'], plot_db['Max'], color='r', alpha=.1, label='Range')\n",
    "fig = plt.fill_between(np.arange(len(plot_db)), plot_db['Q25'], plot_db['Q75'], color='g', alpha=.2, label='IQR')\n",
    "fig = plt.plot(np.arange(len(plot_db)), plot_db['Q50'], ls=':', c='b', lw=.75, label='Median')\n",
    "fig = plt.scatter(np.arange(len(plot_db)), plot_db['Avr'], marker='x', c='r', s=10, label='Average')\n",
    "fig = plt.xticks(ticks=np.arange(len(plot_db)), labels=['%.1E'%i for i in plot_db['NFE']], rotation=90)\n",
    "fig = plt.xlabel('NFE')\n",
    "fig = plt.ylabel(r'$f(x)$')\n",
    "fig = plt.margins(0.005,.05)\n",
    "fig = plt.grid(alpha=.5)\n",
    "fig = plt.legend(loc='best', framealpha=.5)\n",
    "\n",
    "fig = plt.subplot(2,1,2)\n",
    "fig = plt.plot(np.arange(len(nfe_db)),nfe_db['Pop'], marker='x', mec='r', label='Population size')\n",
    "fig = plt.plot(np.arange(len(nfe_db)),nfe_db['Itr'], marker='x', mec='r', label='Iteration')\n",
    "fig = plt.grid(alpha=.2)\n",
    "fig = plt.margins(0.005,.05)\n",
    "fig = plt.legend(loc='best', framealpha=.5)\n",
    "\n",
    "fig = plt.tight_layout()"
   ]
  },
  {
   "cell_type": "code",
   "execution_count": null,
   "id": "324de492",
   "metadata": {},
   "outputs": [],
   "source": [
    "plot_db = nc_10var_f10_Elite_Collective_v1\n",
    "\n",
    "fig = plt.figure(figsize=(12, 3), dpi=300)\n",
    "fig = plt.fill_between(np.arange(len(plot_db)), plot_db['Min'], plot_db['Max'], color='r', alpha=.1, label='Range')\n",
    "fig = plt.fill_between(np.arange(len(plot_db)), plot_db['Q25'], plot_db['Q75'], color='g', alpha=.2, label='IQR')\n",
    "fig = plt.plot(np.arange(len(plot_db)), plot_db['Q50'], ls=':', c='b', lw=.75, label='Median')\n",
    "fig = plt.scatter(np.arange(len(plot_db)), plot_db['Avr'], marker='x', c='r', s=10, label='Average')\n",
    "fig = plt.xticks(ticks=np.arange(len(plot_db)), labels=['%.1E'%i for i in plot_db['NFE']], rotation=90)\n",
    "fig = plt.xlabel('NFE')\n",
    "fig = plt.ylabel(r'$f(x)$')\n",
    "fig = plt.margins(0.005,.05)\n",
    "fig = plt.grid(alpha=.5)\n",
    "fig = plt.legend(loc='best', framealpha=.5, ncol=2)\n",
    "fig = plt.show()\n",
    "# fig = plt.savefig(output_dir / file_name)\n",
    "fig = plt.close()"
   ]
  },
  {
   "cell_type": "code",
   "execution_count": null,
   "id": "f1a5b60b",
   "metadata": {},
   "outputs": [],
   "source": [
    "for num_var in num_variables_values:\n",
    "    for alg_name in alg_list:  \n",
    "        for f in func_num:\n",
    "            folder_name = '/0Summary result/Plots/NC/Convergance Plot/%d_vars/%s/'%(num_var, alg_name)\n",
    "            file_name = 'f%d_conv_plot.png'%(f)\n",
    "            output_dir = Path(root_directory+folder_name)\n",
    "            output_dir.mkdir(parents=True, exist_ok=True)\n",
    "            \n",
    "            plot_db = eval(\"nc_%dvar_f%d_%s\"%(num_var, f, alg_name))\n",
    "            \n",
    "            fig = plt.figure(figsize=(12, 3), dpi=300)\n",
    "            fig = plt.fill_between(np.arange(len(plot_db)), plot_db['Min'], plot_db['Max'], color='r', alpha=.1, label='Range')\n",
    "            fig = plt.fill_between(np.arange(len(plot_db)), plot_db['Q25'], plot_db['Q75'], color='g', alpha=.2, label='IQR')\n",
    "            fig = plt.plot(np.arange(len(plot_db)), plot_db['Q50'], ls=':', c='b', lw=.75, label='Median')\n",
    "            fig = plt.scatter(np.arange(len(plot_db)), plot_db['Avr'], marker='x', c='r', s=10, label='Average')\n",
    "            fig = plt.xticks(ticks=np.arange(len(plot_db)), labels=['%.1E'%i for i in plot_db['NFE']], rotation=90)\n",
    "            fig = plt.xlabel('NFE')\n",
    "            fig = plt.ylabel(r'$f(x)$')\n",
    "            fig = plt.margins(0.005,.05)\n",
    "            fig = plt.grid(alpha=.5)\n",
    "            fig = plt.legend(loc='best', framealpha=.5, ncol=2)\n",
    "            fig = plt.tight_layout()\n",
    "            fig = plt.savefig(output_dir / file_name)\n",
    "            fig = plt.show()"
   ]
  },
  {
   "cell_type": "code",
   "execution_count": null,
   "id": "3f2e9d1b",
   "metadata": {
    "scrolled": true
   },
   "outputs": [],
   "source": [
    "alg_list = ['Pure_Random', 'Pure_Random_Greedy',\n",
    "            'Elite_Collective_v5', 'Elite_Collective_v1',\n",
    "           'Elite_Greedy_Collective_v5', 'Elite_Greedy_Collective_v1']\n",
    "alg_list"
   ]
  },
  {
   "cell_type": "code",
   "execution_count": null,
   "id": "bcd900a4",
   "metadata": {
    "scrolled": true
   },
   "outputs": [],
   "source": [
    "for num_var in num_variables_values:\n",
    "    folder_name = '/0Summary result/Plots/NC/Comparison Convergance Plot/%d_vars/'%(num_var)\n",
    "    output_dir = Path(root_directory+folder_name)\n",
    "    output_dir.mkdir(parents=True, exist_ok=True)\n",
    "    for f in func_num:\n",
    "        file_name = 'f%d_conv_comp_plot.png'%(f)\n",
    "        fig = plt.figure(figsize=(12, 12), dpi=300)\n",
    "        for index, alg_name in enumerate(alg_list):\n",
    "            plot_db = eval(\"nc_%dvar_f%d_%s\"%(num_var, f, alg_name))\n",
    "            fig = plt.subplot(6, 1, index+1)\n",
    "            print(alg_name)\n",
    "            fig = plt.fill_between(np.arange(len(plot_db)), plot_db['Min'], plot_db['Max'], color='r', alpha=.1, label='Range')\n",
    "            fig = plt.fill_between(np.arange(len(plot_db)), plot_db['Q25'], plot_db['Q75'], color='g', alpha=.2, label='IQR')\n",
    "            fig = plt.plot(np.arange(len(plot_db)), plot_db['Q50'], ls=':', c='b', lw=.75, label='Median')\n",
    "            fig = plt.scatter(np.arange(len(plot_db)), plot_db['Avr'], marker='x', c='r', s=10, label='Average')\n",
    "            fig = plt.ylabel(r'$f(x)$')\n",
    "            fig = plt.margins(0.005,.05)\n",
    "            fig = plt.grid(alpha=.5)\n",
    "            fig = plt.xticks(ticks=np.arange(len(plot_db)), labels=['%.1E'%i for i in plot_db['NFE']], rotation=90)\n",
    "            if index==5:\n",
    "                fig = plt.xticks(ticks=np.arange(len(plot_db)), labels=['%.1E'%i for i in plot_db['NFE']], rotation=90)\n",
    "                fig = plt.xlabel('NFE')\n",
    "                fig = plt.legend(loc='best', framealpha=.5, ncol=2)\n",
    "            else:\n",
    "                ax = plt.gca()\n",
    "                ax.set_xticklabels([])\n",
    "        fig = plt.tight_layout()\n",
    "        fig = plt.savefig(output_dir / file_name)\n",
    "        fig = plt.show()"
   ]
  },
  {
   "cell_type": "markdown",
   "id": "b6946d91",
   "metadata": {},
   "source": [
    "<div class=\"alert alert-info\">\n",
    "    <b>II. Centered</b>\n",
    "</div>"
   ]
  },
  {
   "cell_type": "code",
   "execution_count": null,
   "id": "7f28c55f",
   "metadata": {},
   "outputs": [],
   "source": [
    "func_num = [1,2,4,6,7]\n",
    "pop_values = np.array([100, 200, 500, 750, 1000])\n",
    "iteration_values = np.array([500, 750, 1000, 2000, 2500])\n",
    "num_variables_values = np.array([2, 10])"
   ]
  },
  {
   "cell_type": "code",
   "execution_count": null,
   "id": "cb9ba41b",
   "metadata": {},
   "outputs": [],
   "source": [
    "# RAEDING AND CREATING FILES WITH OFS OF ALL FUNCTIONS\n",
    "columns = ['Pop', 'Itr', 'NFE', 'Min', 'Q25', 'Q50', 'Q75', 'Max', 'Avr', 'Std']\n",
    "for num_var in num_variables_values:\n",
    "    full_name_list = eval('names_%dvar'%num_var)\n",
    "    for f in func_num:\n",
    "        for alg_name in alg_list:\n",
    "            globals()['c_%dvar_f%d_%s'%(num_var, f, alg_name)] = pd.DataFrame(columns=columns)\n",
    "            for file_name in full_name_list:\n",
    "                folder_name = '/%s/Result/Centered/f%d/'%(alg_name, f)\n",
    "                db = pd.read_csv(root_directory+folder_name+file_name)\n",
    "                q1, q2, q3 = db['best_OF'].quantile(0.25), db['best_OF'].quantile(0.5), db['best_OF'].quantile(0.75)\n",
    "                q0, q4 = db['best_OF'].min(), db['best_OF'].max()\n",
    "                mean, std = db['best_OF'].mean(), db['best_OF'].std()\n",
    "                pop, it, NFE = db['Pop Size'][0], db['Iteration'][0], db['NFE'][0]\n",
    "                temp_db = pd.DataFrame([pop, it, NFE, q0, q1, q2, q3, q4, mean, std], index=columns).transpose()\n",
    "                exec('c_%dvar_f%d_%s = pd.concat((c_%dvar_f%d_%s, temp_db), ignore_index=True)'%(num_var, f, alg_name, num_var, f, alg_name))\n",
    "            eval(\"c_%dvar_f%d_%s.sort_values(['NFE'], inplace=True)\"%(num_var, f, alg_name,))"
   ]
  },
  {
   "cell_type": "code",
   "execution_count": null,
   "id": "0c8db56b",
   "metadata": {
    "scrolled": true
   },
   "outputs": [],
   "source": [
    "num_var = 10 #2\n",
    "\n",
    "alg_name = 'Pure_Random'#'Pure_Random_Greedy' #'Elite_Greedy_Collective_v1'#'Elite_Greedy_Collective_v5'#'Elite_Collective_v5'#'Elite_Collective_v1'\n",
    "\n",
    "func_num = 4\n",
    "plot_db = eval(\"c_%dvar_f%d_%s\"%(num_var, func_num, alg_name))"
   ]
  },
  {
   "cell_type": "code",
   "execution_count": null,
   "id": "7057ddc3",
   "metadata": {},
   "outputs": [],
   "source": [
    "fig = plt.figure(figsize=(12, 7), dpi=300)\n",
    "\n",
    "fig = plt.subplot(2,1,1)\n",
    "fig = plt.fill_between(np.arange(len(plot_db)), plot_db['Min'], plot_db['Max'], color='r', alpha=.1, label='Range')\n",
    "fig = plt.fill_between(np.arange(len(plot_db)), plot_db['Q25'], plot_db['Q75'], color='g', alpha=.2, label='IQR')\n",
    "fig = plt.plot(np.arange(len(plot_db)), plot_db['Q50'], ls=':', c='b', lw=.75, label='Median')\n",
    "fig = plt.scatter(np.arange(len(plot_db)), plot_db['Avr'], marker='x', c='r', s=10, label='Average')\n",
    "fig = plt.xticks(ticks=np.arange(len(plot_db)), labels=['%.1E'%i for i in plot_db['NFE']], rotation=90)\n",
    "fig = plt.xlabel('NFE')\n",
    "fig = plt.ylabel(r'$f(x)$')\n",
    "fig = plt.margins(0.005,.05)\n",
    "fig = plt.grid(alpha=.5)\n",
    "fig = plt.legend(loc='best', framealpha=.5)\n",
    "\n",
    "fig = plt.subplot(2,1,2)\n",
    "fig = plt.plot(np.arange(len(nfe_db)),nfe_db['Pop'], marker='x', mec='r', label='Population size')\n",
    "fig = plt.plot(np.arange(len(nfe_db)),nfe_db['Itr'], marker='x', mec='r', label='Iteration')\n",
    "fig = plt.grid(alpha=.2)\n",
    "fig = plt.margins(0.005,.05)\n",
    "fig = plt.legend(loc='best', framealpha=.5)\n",
    "\n",
    "fig = plt.tight_layout()"
   ]
  },
  {
   "cell_type": "code",
   "execution_count": null,
   "id": "bd7a5a13",
   "metadata": {},
   "outputs": [],
   "source": [
    "plot_db = c_10var_f4_Elite_Greedy_Collective_v5\n",
    "\n",
    "fig = plt.figure(figsize=(12, 3), dpi=300)\n",
    "fig = plt.fill_between(np.arange(len(plot_db)), plot_db['Min'], plot_db['Max'], color='r', alpha=.1, label='Range')\n",
    "fig = plt.fill_between(np.arange(len(plot_db)), plot_db['Q25'], plot_db['Q75'], color='g', alpha=.2, label='IQR')\n",
    "fig = plt.plot(np.arange(len(plot_db)), plot_db['Q50'], ls=':', c='b', lw=.75, label='Median')\n",
    "fig = plt.scatter(np.arange(len(plot_db)), plot_db['Avr'], marker='x', c='r', s=10, label='Average')\n",
    "fig = plt.xticks(ticks=np.arange(len(plot_db)), labels=['%.1E'%i for i in plot_db['NFE']], rotation=90)\n",
    "fig = plt.xlabel('NFE')\n",
    "fig = plt.ylabel(r'$f(x)$')\n",
    "fig = plt.margins(0.005,.05)\n",
    "fig = plt.grid(alpha=.5)\n",
    "fig = plt.legend(loc='best', framealpha=.5, ncol=2)\n",
    "fig = plt.show()\n",
    "# fig = plt.savefig(output_dir / file_name)\n",
    "fig = plt.close()"
   ]
  },
  {
   "cell_type": "code",
   "execution_count": null,
   "id": "35bc49eb",
   "metadata": {},
   "outputs": [],
   "source": [
    "for num_var in num_variables_values:\n",
    "    for alg_name in alg_list:  \n",
    "        for f in func_num:\n",
    "            folder_name = '/0Summary result/Plots/C/Convergance Plot/%d_vars/%s/'%(num_var, alg_name)\n",
    "            file_name = 'f%d_conv_plot.png'%(f)\n",
    "            output_dir = Path(root_directory+folder_name)\n",
    "            output_dir.mkdir(parents=True, exist_ok=True)\n",
    "            \n",
    "            plot_db = eval(\"c_%dvar_f%d_%s\"%(num_var, f, alg_name))\n",
    "            \n",
    "            fig = plt.figure(figsize=(12, 3), dpi=300)\n",
    "            fig = plt.fill_between(np.arange(len(plot_db)), plot_db['Min'], plot_db['Max'], color='r', alpha=.1, label='Range')\n",
    "            fig = plt.fill_between(np.arange(len(plot_db)), plot_db['Q25'], plot_db['Q75'], color='g', alpha=.2, label='IQR')\n",
    "            fig = plt.plot(np.arange(len(plot_db)), plot_db['Q50'], ls=':', c='b', lw=.75, label='Median')\n",
    "            fig = plt.scatter(np.arange(len(plot_db)), plot_db['Avr'], marker='x', c='r', s=10, label='Average')\n",
    "            fig = plt.xticks(ticks=np.arange(len(plot_db)), labels=['%.1E'%i for i in plot_db['NFE']], rotation=90)\n",
    "            fig = plt.xlabel('NFE')\n",
    "            fig = plt.ylabel(r'$f(x)$')\n",
    "            fig = plt.margins(0.005,.05)\n",
    "            fig = plt.grid(alpha=.5)\n",
    "            fig = plt.legend(loc='best', framealpha=.5, ncol=2)\n",
    "            fig = plt.tight_layout()\n",
    "            fig = plt.savefig(output_dir / file_name)\n",
    "            fig = plt.show()"
   ]
  },
  {
   "cell_type": "code",
   "execution_count": null,
   "id": "bb77e6e0",
   "metadata": {
    "scrolled": false
   },
   "outputs": [],
   "source": [
    "alg_list = ['Pure_Random', 'Pure_Random_Greedy',\n",
    "            'Elite_Collective_v5', 'Elite_Collective_v1',\n",
    "           'Elite_Greedy_Collective_v5', 'Elite_Greedy_Collective_v1']\n",
    "alg_list"
   ]
  },
  {
   "cell_type": "code",
   "execution_count": null,
   "id": "6a7b864e",
   "metadata": {},
   "outputs": [],
   "source": [
    "for index, alg_name in enumerate(alg_list):\n",
    "    print(alg_name)"
   ]
  },
  {
   "cell_type": "code",
   "execution_count": null,
   "id": "a00d606f",
   "metadata": {},
   "outputs": [],
   "source": [
    "f, num_var = 4, 10\n",
    "\n",
    "file_name = 'f%d_conv_comp_plot.png'%(f)\n",
    "fig = plt.figure(figsize=(12, 12), dpi=300)\n",
    "for index, alg_name in enumerate(alg_list):\n",
    "    plot_db = eval(\"c_%dvar_f%d_%s\"%(num_var, f, alg_name))\n",
    "    fig = plt.subplot(6, 1, index+1)\n",
    "#     print(alg_name)\n",
    "#     fig = plt.title('%s'%alg_name)\n",
    "    fig = plt.fill_between(np.arange(len(plot_db)), plot_db['Min'], plot_db['Max'], color='r', alpha=.1, label='Range')\n",
    "    fig = plt.fill_between(np.arange(len(plot_db)), plot_db['Q25'], plot_db['Q75'], color='g', alpha=.2, label='IQR')\n",
    "    fig = plt.plot(np.arange(len(plot_db)), plot_db['Q50'], ls=':', c='b', lw=.75, label='Median')\n",
    "    fig = plt.scatter(np.arange(len(plot_db)), plot_db['Avr'], marker='x', c='r', s=10, label='Average')\n",
    "    fig = plt.ylabel(r'$f(x)$')\n",
    "    fig = plt.margins(0.005,.05)\n",
    "    fig = plt.grid(alpha=.5)\n",
    "    fig = plt.xticks(ticks=np.arange(len(plot_db)), labels=['%.1E'%i for i in plot_db['NFE']], rotation=90)\n",
    "    if index==5:\n",
    "        fig = plt.xticks(ticks=np.arange(len(plot_db)), labels=['%.1E'%i for i in plot_db['NFE']], rotation=90)\n",
    "        fig = plt.xlabel('NFE')\n",
    "        fig = plt.legend(loc='best', framealpha=.5, ncol=2)\n",
    "    else:\n",
    "        ax = plt.gca()\n",
    "        ax.set_xticklabels([])\n",
    "fig = plt.tight_layout()\n",
    "fig = plt.show()"
   ]
  },
  {
   "cell_type": "code",
   "execution_count": null,
   "id": "b26efcbe",
   "metadata": {
    "scrolled": true
   },
   "outputs": [],
   "source": [
    "for num_var in num_variables_values:\n",
    "    folder_name = '/0Summary result/Plots/C/Comparison Convergance Plot/%d_vars/'%(num_var)\n",
    "    output_dir = Path(root_directory+folder_name)\n",
    "    output_dir.mkdir(parents=True, exist_ok=True)\n",
    "    for f in func_num:\n",
    "        file_name = 'f%d_conv_comp_plot.png'%(f)\n",
    "        fig = plt.figure(figsize=(12, 12), dpi=300)\n",
    "        for index, alg_name in enumerate(alg_list):\n",
    "            plot_db = eval(\"c_%dvar_f%d_%s\"%(num_var, f, alg_name))\n",
    "            fig = plt.subplot(6, 1, index+1)\n",
    "            print(alg_name)\n",
    "            fig = plt.fill_between(np.arange(len(plot_db)), plot_db['Min'], plot_db['Max'], color='r', alpha=.1, label='Range')\n",
    "            fig = plt.fill_between(np.arange(len(plot_db)), plot_db['Q25'], plot_db['Q75'], color='g', alpha=.2, label='IQR')\n",
    "            fig = plt.plot(np.arange(len(plot_db)), plot_db['Q50'], ls=':', c='b', lw=.75, label='Median')\n",
    "            fig = plt.scatter(np.arange(len(plot_db)), plot_db['Avr'], marker='x', c='r', s=10, label='Average')\n",
    "            fig = plt.ylabel(r'$f(x)$')\n",
    "            fig = plt.margins(0.005,.05)\n",
    "            fig = plt.grid(alpha=.5)\n",
    "            fig = plt.xticks(ticks=np.arange(len(plot_db)), labels=['%.1E'%i for i in plot_db['NFE']], rotation=90)\n",
    "            if index==5:\n",
    "                fig = plt.xticks(ticks=np.arange(len(plot_db)), labels=['%.1E'%i for i in plot_db['NFE']], rotation=90)\n",
    "                fig = plt.xlabel('NFE')\n",
    "                fig = plt.legend(loc='best', framealpha=.5, ncol=2)\n",
    "            else:\n",
    "                ax = plt.gca()\n",
    "                ax.set_xticklabels([])\n",
    "        fig = plt.tight_layout()\n",
    "        fig = plt.savefig(output_dir / file_name)\n",
    "        fig = plt.show()"
   ]
  },
  {
   "cell_type": "markdown",
   "id": "5605f16b",
   "metadata": {},
   "source": [
    "<div class=\"alert alert-warning\">\n",
    "    <b>Analysis</b>\n",
    "</div>"
   ]
  },
  {
   "cell_type": "markdown",
   "id": "ea0ba289",
   "metadata": {},
   "source": [
    "MAX NFE / TARGET LAST OPTION ELITE GREEDY V1"
   ]
  },
  {
   "cell_type": "markdown",
   "id": "88362115",
   "metadata": {},
   "source": [
    "##### NC"
   ]
  },
  {
   "cell_type": "code",
   "execution_count": null,
   "id": "fd23fdd7",
   "metadata": {},
   "outputs": [],
   "source": [
    "func_num = [1,2,3,4,5,6,7,8,9,10,21,23,24,25,26,27,28]\n",
    "alg_list = ['Pure_Random', 'Pure_Random_Greedy',\n",
    "            'Elite_Collective_v5', 'Elite_Collective_v1',\n",
    "           'Elite_Greedy_Collective_v5', 'Elite_Greedy_Collective_v1']\n",
    "pop_val = 1000\n",
    "it_val = 2500\n",
    "num_variables_values = np.array([2, 10])"
   ]
  },
  {
   "cell_type": "code",
   "execution_count": null,
   "id": "b14d0f9e",
   "metadata": {},
   "outputs": [],
   "source": [
    "# RAEDING AND CREATING FILES WITH OFS OF ALL FUNCTIONS\n",
    "for num_var in num_variables_values:\n",
    "    for f in func_num:\n",
    "        globals()['overall_nc_%dvar_f%d'%(num_var, f)] = pd.DataFrame(columns=alg_list)\n",
    "        file_name = '%dvar_%dpop_%dit.csv'%(num_var, pop_val, it_val)\n",
    "        for alg_name in alg_list:\n",
    "            folder_name = '/%s/Result/Non-Centered/f%d/'%(alg_name, f)\n",
    "            db = pd.read_csv(root_directory+folder_name+file_name)\n",
    "            exec(\"overall_nc_%dvar_f%d[alg_name] = db['best_OF']\"%(num_var, f))\n",
    "        exec(\"overall_nc_%dvar_f%d.dropna(inplace=True)\"%(num_var, f))"
   ]
  },
  {
   "cell_type": "code",
   "execution_count": null,
   "id": "eed3920c",
   "metadata": {},
   "outputs": [],
   "source": [
    "target = alg_list[0]\n",
    "confidence_level = .05\n",
    "\n",
    "for num_var in num_variables_values:\n",
    "    headers = eval('overall_nc_%dvar_f%d.columns'%(num_var, f))\n",
    "    rest_name = [i for i in headers if i != target]\n",
    "    exec('%s_%dvar_wilcox = pd.DataFrame(columns=rest_name)'%(target, num_var))\n",
    "    for f in func_num:\n",
    "        results = list()\n",
    "        target_val = eval('overall_nc_%dvar_f%d[target]'%(num_var, f))\n",
    "        for alg in rest_name:\n",
    "            diff = target_val - eval('overall_nc_%dvar_f%d[\"%s\"]'%(num_var, f, alg))\n",
    "            w, p = wilcoxon(diff, zero_method=\"zsplit\",  method='approx')\n",
    "            if not (p<confidence_level):\n",
    "                symbol = '0'\n",
    "            else:\n",
    "                w, p = wilcoxon(diff, zero_method=\"zsplit\", alternative='less',  method='approx')\n",
    "                if p<confidence_level:\n",
    "                    symbol = '-'\n",
    "                else:\n",
    "                    symbol = '+'\n",
    "            results.append(symbol)  \n",
    "        exec('%s_%dvar_wilcox=pd.concat((%s_%dvar_wilcox, pd.DataFrame(results, index=rest_name).transpose()), ignore_index=True)'\n",
    "             %(target, num_var, target, num_var))\n",
    "    index = ['f%d'%i for i in func_num]\n",
    "    eval(\"%s_%dvar_wilcox.insert(0,'Function',index)\"%(target, num_var))\n",
    "    folder_name = '/0Summary result/Stat tests/NC/Wilcox/%dvar/'%num_var\n",
    "    output_dir = Path(root_directory+folder_name)\n",
    "    output_dir.mkdir(parents=True, exist_ok=True)\n",
    "    file_name = '%s_wilcox.csv'%target\n",
    "    exec(\"%s_%dvar_wilcox.to_csv(output_dir / file_name)\"%(target, num_var))"
   ]
  },
  {
   "cell_type": "markdown",
   "id": "4f94b2e0",
   "metadata": {},
   "source": [
    "##### C"
   ]
  },
  {
   "cell_type": "code",
   "execution_count": null,
   "id": "630abb49",
   "metadata": {},
   "outputs": [],
   "source": [
    "func_num = [1,2,4,6,7]\n",
    "alg_list = ['Pure_Random', 'Pure_Random_Greedy',\n",
    "            'Elite_Collective_v5', 'Elite_Collective_v1',\n",
    "           'Elite_Greedy_Collective_v5', 'Elite_Greedy_Collective_v1']\n",
    "pop_val = 1000\n",
    "it_val = 2500\n",
    "num_variables_values = np.array([2, 10])"
   ]
  },
  {
   "cell_type": "code",
   "execution_count": null,
   "id": "e19211f7",
   "metadata": {},
   "outputs": [],
   "source": [
    "# RAEDING AND CREATING FILES WITH OFS OF ALL FUNCTIONS\n",
    "for num_var in num_variables_values:\n",
    "    for f in func_num:\n",
    "        globals()['overall_c_%dvar_f%d'%(num_var, f)] = pd.DataFrame(columns=alg_list)\n",
    "        file_name = '%dvar_%dpop_%dit.csv'%(num_var, pop_val, it_val)\n",
    "        for alg_name in alg_list:\n",
    "            folder_name = '/%s/Result/Centered/f%d/'%(alg_name, f)\n",
    "            db = pd.read_csv(root_directory+folder_name+file_name)\n",
    "            exec(\"overall_c_%dvar_f%d[alg_name] = db['best_OF']\"%(num_var, f))\n",
    "        exec(\"overall_c_%dvar_f%d.dropna(inplace=True)\"%(num_var, f))"
   ]
  },
  {
   "cell_type": "code",
   "execution_count": null,
   "id": "5fcafcc7",
   "metadata": {},
   "outputs": [],
   "source": [
    "target = alg_list[5]\n",
    "confidence_level = .05\n",
    "\n",
    "for num_var in num_variables_values:\n",
    "    headers = eval('overall_c_%dvar_f%d.columns'%(num_var, f))\n",
    "    rest_name = [i for i in headers if i != target]\n",
    "    exec('%s_%dvar_wilcox = pd.DataFrame(columns=rest_name)'%(target, num_var))\n",
    "    for f in func_num:\n",
    "        results = list()\n",
    "        target_val = eval('overall_c_%dvar_f%d[target]'%(num_var, f))\n",
    "        for alg in rest_name:\n",
    "            diff = target_val - eval('overall_c_%dvar_f%d[\"%s\"]'%(num_var, f, alg))\n",
    "            w, p = wilcoxon(diff, zero_method=\"zsplit\",  method='approx')\n",
    "            if not (p<confidence_level):\n",
    "                symbol = '0'\n",
    "            else:\n",
    "                w, p = wilcoxon(diff, zero_method=\"zsplit\", alternative='less',  method='approx')\n",
    "                if p<confidence_level:\n",
    "                    symbol = '-'\n",
    "                else:\n",
    "                    symbol = '+'\n",
    "            results.append(symbol)  \n",
    "        exec('%s_%dvar_wilcox=pd.concat((%s_%dvar_wilcox, pd.DataFrame(results, index=rest_name).transpose()), ignore_index=True)'\n",
    "             %(target, num_var, target, num_var))\n",
    "    index = ['f%d'%i for i in func_num]\n",
    "    eval(\"%s_%dvar_wilcox.insert(0,'Function',index)\"%(target, num_var))\n",
    "    folder_name = '/0Summary result/Stat tests/C/Wilcox/%dvar/'%num_var\n",
    "    output_dir = Path(root_directory+folder_name)\n",
    "    output_dir.mkdir(parents=True, exist_ok=True)\n",
    "    file_name = '%s_wilcox.csv'%target\n",
    "    exec(\"%s_%dvar_wilcox.to_csv(output_dir / file_name)\"%(target, num_var))"
   ]
  }
 ],
 "metadata": {
  "kernelspec": {
   "display_name": "Python 3 (ipykernel)",
   "language": "python",
   "name": "python3"
  },
  "language_info": {
   "codemirror_mode": {
    "name": "ipython",
    "version": 3
   },
   "file_extension": ".py",
   "mimetype": "text/x-python",
   "name": "python",
   "nbconvert_exporter": "python",
   "pygments_lexer": "ipython3",
   "version": "3.9.13"
  }
 },
 "nbformat": 4,
 "nbformat_minor": 5
}
